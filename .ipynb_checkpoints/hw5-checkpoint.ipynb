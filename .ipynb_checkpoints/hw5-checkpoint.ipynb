{
 "cells": [
  {
   "cell_type": "code",
   "execution_count": 527,
   "metadata": {},
   "outputs": [],
   "source": [
    "# dataframe management\n",
    "import pandas as pd             \n",
    "\n",
    "# numerical computation\n",
    "import numpy as np\n",
    "\n",
    "#import re\n",
    "\n",
    "# visualization library\n",
    "import seaborn as sns\n",
    "sns.set(style=\"white\", color_codes=True)\n",
    "sns.set_context(rc={\"font.family\":'sans',\"font.size\":24,\"axes.titlesize\":24,\"axes.labelsize\":24})   \n",
    "\n",
    "\n",
    "# import matplotlib and allow it to plot inline\n",
    "import matplotlib.pyplot as plt\n",
    "#%matplotlib inline\n",
    "\n",
    "#for k-Means\n",
    "from sklearn.cluster import KMeans\n",
    "\n",
    "from datetime import datetime, timedelta, date\n",
    "#from scipy.stats import skew\n",
    "from sklearn.linear_model import LinearRegression, Ridge, RidgeCV, ElasticNet, Lasso, LassoCV\n",
    "from sklearn.tree import DecisionTreeRegressor\n",
    "from sklearn.model_selection import cross_val_score, KFold\n",
    "from sklearn.metrics import r2_score, mean_squared_error\n",
    "from sklearn.datasets import load_boston\n",
    "from sklearn import svm\n",
    "from sklearn.model_selection import GridSearchCV\n",
    "from sklearn.ensemble import RandomForestClassifier"
   ]
  },
  {
   "cell_type": "code",
   "execution_count": 528,
   "metadata": {},
   "outputs": [
    {
     "data": {
      "text/plain": [
       "\"import pickle\\n\\na = {'hello': 'world'}\\n\\nwith open('filename.pickle', 'wb') as handle:\\n    pickle.dump(a, handle, protocol=pickle.HIGHEST_PROTOCOL)\\n\\nwith open('filename.pickle', 'rb') as handle:\\n    b = pickle.load(handle)\\n\\nprint a == b\""
      ]
     },
     "execution_count": 528,
     "metadata": {},
     "output_type": "execute_result"
    }
   ],
   "source": [
    "# for model persistence:\n",
    "#https://scikit-learn.org/stable/modules/model_persistence.html\n",
    "\"\"\">>> from sklearn import svm\n",
    ">>> from sklearn import datasets\n",
    ">>> clf = svm.SVC(gamma='scale')\n",
    ">>> iris = datasets.load_iris()\n",
    ">>> X, y = iris.data, iris.target\n",
    ">>> clf.fit(X, y)  \n",
    "SVC(C=1.0, cache_size=200, class_weight=None, coef0=0.0,\n",
    "    decision_function_shape='ovr', degree=3, gamma='scale', kernel='rbf',\n",
    "    max_iter=-1, probability=False, random_state=None, shrinking=True,\n",
    "    tol=0.001, verbose=False)\n",
    "\n",
    ">>> import pickle\n",
    ">>> s = pickle.dumps(clf)\n",
    ">>> clf2 = pickle.loads(s)\n",
    ">>> clf2.predict(X[0:1])\n",
    "array([0])\n",
    ">>> y[0]\n",
    "0\"\"\"\n",
    "#---------------------\n",
    "\n",
    "\"\"\"import pickle\n",
    "\n",
    "a = {'hello': 'world'}\n",
    "\n",
    "with open('filename.pickle', 'wb') as handle:\n",
    "    pickle.dump(a, handle, protocol=pickle.HIGHEST_PROTOCOL)\n",
    "\n",
    "with open('filename.pickle', 'rb') as handle:\n",
    "    b = pickle.load(handle)\n",
    "\n",
    "print a == b\"\"\""
   ]
  },
  {
   "cell_type": "code",
   "execution_count": 529,
   "metadata": {},
   "outputs": [],
   "source": [
    "import importlib #importlib.reload(WhatToReimport)\n",
    "import hw5\n",
    "importlib.reload(hw5)\n",
    "from sklearn.model_selection import train_test_split\n",
    "import scipy"
   ]
  },
  {
   "cell_type": "code",
   "execution_count": 530,
   "metadata": {},
   "outputs": [],
   "source": [
    "d=hw5.Dataset()"
   ]
  },
  {
   "cell_type": "markdown",
   "metadata": {},
   "source": [
    "# Data exploration"
   ]
  },
  {
   "cell_type": "code",
   "execution_count": 531,
   "metadata": {},
   "outputs": [
    {
     "data": {
      "text/html": [
       "<div>\n",
       "<style scoped>\n",
       "    .dataframe tbody tr th:only-of-type {\n",
       "        vertical-align: middle;\n",
       "    }\n",
       "\n",
       "    .dataframe tbody tr th {\n",
       "        vertical-align: top;\n",
       "    }\n",
       "\n",
       "    .dataframe thead th {\n",
       "        text-align: right;\n",
       "    }\n",
       "</style>\n",
       "<table border=\"1\" class=\"dataframe\">\n",
       "  <thead>\n",
       "    <tr style=\"text-align: right;\">\n",
       "      <th></th>\n",
       "      <th>Music</th>\n",
       "      <th>Slow songs or fast songs</th>\n",
       "      <th>Dance</th>\n",
       "      <th>Folk</th>\n",
       "      <th>Country</th>\n",
       "      <th>Classical music</th>\n",
       "      <th>Musical</th>\n",
       "      <th>Pop</th>\n",
       "      <th>Rock</th>\n",
       "      <th>Metal or Hardrock</th>\n",
       "      <th>...</th>\n",
       "      <th>Shopping centres</th>\n",
       "      <th>Branded clothing</th>\n",
       "      <th>Entertainment spending</th>\n",
       "      <th>Spending on looks</th>\n",
       "      <th>Spending on gadgets</th>\n",
       "      <th>Spending on healthy eating</th>\n",
       "      <th>Age</th>\n",
       "      <th>Height</th>\n",
       "      <th>Weight</th>\n",
       "      <th>Number of siblings</th>\n",
       "    </tr>\n",
       "  </thead>\n",
       "  <tbody>\n",
       "    <tr>\n",
       "      <th>count</th>\n",
       "      <td>1007.000000</td>\n",
       "      <td>1008.000000</td>\n",
       "      <td>1006.000000</td>\n",
       "      <td>1005.000000</td>\n",
       "      <td>1005.000000</td>\n",
       "      <td>1003.000000</td>\n",
       "      <td>1008.000000</td>\n",
       "      <td>1007.000000</td>\n",
       "      <td>1004.000000</td>\n",
       "      <td>1007.000000</td>\n",
       "      <td>...</td>\n",
       "      <td>1008.000000</td>\n",
       "      <td>1008.000000</td>\n",
       "      <td>1007.000000</td>\n",
       "      <td>1007.000000</td>\n",
       "      <td>1010.000000</td>\n",
       "      <td>1008.00000</td>\n",
       "      <td>1003.000000</td>\n",
       "      <td>990.000000</td>\n",
       "      <td>990.000000</td>\n",
       "      <td>1004.000000</td>\n",
       "    </tr>\n",
       "    <tr>\n",
       "      <th>mean</th>\n",
       "      <td>4.731877</td>\n",
       "      <td>3.328373</td>\n",
       "      <td>3.113320</td>\n",
       "      <td>2.288557</td>\n",
       "      <td>2.123383</td>\n",
       "      <td>2.956132</td>\n",
       "      <td>2.761905</td>\n",
       "      <td>3.471698</td>\n",
       "      <td>3.761952</td>\n",
       "      <td>2.361470</td>\n",
       "      <td>...</td>\n",
       "      <td>3.234127</td>\n",
       "      <td>3.050595</td>\n",
       "      <td>3.201589</td>\n",
       "      <td>3.106256</td>\n",
       "      <td>2.870297</td>\n",
       "      <td>3.55754</td>\n",
       "      <td>20.433699</td>\n",
       "      <td>173.514141</td>\n",
       "      <td>66.405051</td>\n",
       "      <td>1.297809</td>\n",
       "    </tr>\n",
       "    <tr>\n",
       "      <th>std</th>\n",
       "      <td>0.664049</td>\n",
       "      <td>0.833931</td>\n",
       "      <td>1.170568</td>\n",
       "      <td>1.138916</td>\n",
       "      <td>1.076136</td>\n",
       "      <td>1.252570</td>\n",
       "      <td>1.260845</td>\n",
       "      <td>1.161400</td>\n",
       "      <td>1.184861</td>\n",
       "      <td>1.372995</td>\n",
       "      <td>...</td>\n",
       "      <td>1.323062</td>\n",
       "      <td>1.306321</td>\n",
       "      <td>1.188947</td>\n",
       "      <td>1.205368</td>\n",
       "      <td>1.284970</td>\n",
       "      <td>1.09375</td>\n",
       "      <td>2.828840</td>\n",
       "      <td>10.024505</td>\n",
       "      <td>13.839561</td>\n",
       "      <td>1.013348</td>\n",
       "    </tr>\n",
       "    <tr>\n",
       "      <th>min</th>\n",
       "      <td>1.000000</td>\n",
       "      <td>1.000000</td>\n",
       "      <td>1.000000</td>\n",
       "      <td>1.000000</td>\n",
       "      <td>1.000000</td>\n",
       "      <td>1.000000</td>\n",
       "      <td>1.000000</td>\n",
       "      <td>1.000000</td>\n",
       "      <td>1.000000</td>\n",
       "      <td>1.000000</td>\n",
       "      <td>...</td>\n",
       "      <td>1.000000</td>\n",
       "      <td>1.000000</td>\n",
       "      <td>1.000000</td>\n",
       "      <td>1.000000</td>\n",
       "      <td>1.000000</td>\n",
       "      <td>1.00000</td>\n",
       "      <td>15.000000</td>\n",
       "      <td>62.000000</td>\n",
       "      <td>41.000000</td>\n",
       "      <td>0.000000</td>\n",
       "    </tr>\n",
       "    <tr>\n",
       "      <th>25%</th>\n",
       "      <td>5.000000</td>\n",
       "      <td>3.000000</td>\n",
       "      <td>2.000000</td>\n",
       "      <td>1.000000</td>\n",
       "      <td>1.000000</td>\n",
       "      <td>2.000000</td>\n",
       "      <td>2.000000</td>\n",
       "      <td>3.000000</td>\n",
       "      <td>3.000000</td>\n",
       "      <td>1.000000</td>\n",
       "      <td>...</td>\n",
       "      <td>2.000000</td>\n",
       "      <td>2.000000</td>\n",
       "      <td>2.000000</td>\n",
       "      <td>2.000000</td>\n",
       "      <td>2.000000</td>\n",
       "      <td>3.00000</td>\n",
       "      <td>19.000000</td>\n",
       "      <td>167.000000</td>\n",
       "      <td>55.000000</td>\n",
       "      <td>1.000000</td>\n",
       "    </tr>\n",
       "    <tr>\n",
       "      <th>50%</th>\n",
       "      <td>5.000000</td>\n",
       "      <td>3.000000</td>\n",
       "      <td>3.000000</td>\n",
       "      <td>2.000000</td>\n",
       "      <td>2.000000</td>\n",
       "      <td>3.000000</td>\n",
       "      <td>3.000000</td>\n",
       "      <td>4.000000</td>\n",
       "      <td>4.000000</td>\n",
       "      <td>2.000000</td>\n",
       "      <td>...</td>\n",
       "      <td>3.000000</td>\n",
       "      <td>3.000000</td>\n",
       "      <td>3.000000</td>\n",
       "      <td>3.000000</td>\n",
       "      <td>3.000000</td>\n",
       "      <td>4.00000</td>\n",
       "      <td>20.000000</td>\n",
       "      <td>173.000000</td>\n",
       "      <td>64.000000</td>\n",
       "      <td>1.000000</td>\n",
       "    </tr>\n",
       "    <tr>\n",
       "      <th>75%</th>\n",
       "      <td>5.000000</td>\n",
       "      <td>4.000000</td>\n",
       "      <td>4.000000</td>\n",
       "      <td>3.000000</td>\n",
       "      <td>3.000000</td>\n",
       "      <td>4.000000</td>\n",
       "      <td>4.000000</td>\n",
       "      <td>4.000000</td>\n",
       "      <td>5.000000</td>\n",
       "      <td>3.000000</td>\n",
       "      <td>...</td>\n",
       "      <td>4.000000</td>\n",
       "      <td>4.000000</td>\n",
       "      <td>4.000000</td>\n",
       "      <td>4.000000</td>\n",
       "      <td>4.000000</td>\n",
       "      <td>4.00000</td>\n",
       "      <td>22.000000</td>\n",
       "      <td>180.000000</td>\n",
       "      <td>75.000000</td>\n",
       "      <td>2.000000</td>\n",
       "    </tr>\n",
       "    <tr>\n",
       "      <th>max</th>\n",
       "      <td>5.000000</td>\n",
       "      <td>5.000000</td>\n",
       "      <td>5.000000</td>\n",
       "      <td>5.000000</td>\n",
       "      <td>5.000000</td>\n",
       "      <td>5.000000</td>\n",
       "      <td>5.000000</td>\n",
       "      <td>5.000000</td>\n",
       "      <td>5.000000</td>\n",
       "      <td>5.000000</td>\n",
       "      <td>...</td>\n",
       "      <td>5.000000</td>\n",
       "      <td>5.000000</td>\n",
       "      <td>5.000000</td>\n",
       "      <td>5.000000</td>\n",
       "      <td>5.000000</td>\n",
       "      <td>5.00000</td>\n",
       "      <td>30.000000</td>\n",
       "      <td>203.000000</td>\n",
       "      <td>165.000000</td>\n",
       "      <td>10.000000</td>\n",
       "    </tr>\n",
       "  </tbody>\n",
       "</table>\n",
       "<p>8 rows × 139 columns</p>\n",
       "</div>"
      ],
      "text/plain": [
       "             Music  Slow songs or fast songs        Dance         Folk  \\\n",
       "count  1007.000000               1008.000000  1006.000000  1005.000000   \n",
       "mean      4.731877                  3.328373     3.113320     2.288557   \n",
       "std       0.664049                  0.833931     1.170568     1.138916   \n",
       "min       1.000000                  1.000000     1.000000     1.000000   \n",
       "25%       5.000000                  3.000000     2.000000     1.000000   \n",
       "50%       5.000000                  3.000000     3.000000     2.000000   \n",
       "75%       5.000000                  4.000000     4.000000     3.000000   \n",
       "max       5.000000                  5.000000     5.000000     5.000000   \n",
       "\n",
       "           Country  Classical music      Musical          Pop         Rock  \\\n",
       "count  1005.000000      1003.000000  1008.000000  1007.000000  1004.000000   \n",
       "mean      2.123383         2.956132     2.761905     3.471698     3.761952   \n",
       "std       1.076136         1.252570     1.260845     1.161400     1.184861   \n",
       "min       1.000000         1.000000     1.000000     1.000000     1.000000   \n",
       "25%       1.000000         2.000000     2.000000     3.000000     3.000000   \n",
       "50%       2.000000         3.000000     3.000000     4.000000     4.000000   \n",
       "75%       3.000000         4.000000     4.000000     4.000000     5.000000   \n",
       "max       5.000000         5.000000     5.000000     5.000000     5.000000   \n",
       "\n",
       "       Metal or Hardrock         ...          Shopping centres  \\\n",
       "count        1007.000000         ...               1008.000000   \n",
       "mean            2.361470         ...                  3.234127   \n",
       "std             1.372995         ...                  1.323062   \n",
       "min             1.000000         ...                  1.000000   \n",
       "25%             1.000000         ...                  2.000000   \n",
       "50%             2.000000         ...                  3.000000   \n",
       "75%             3.000000         ...                  4.000000   \n",
       "max             5.000000         ...                  5.000000   \n",
       "\n",
       "       Branded clothing  Entertainment spending  Spending on looks  \\\n",
       "count       1008.000000             1007.000000        1007.000000   \n",
       "mean           3.050595                3.201589           3.106256   \n",
       "std            1.306321                1.188947           1.205368   \n",
       "min            1.000000                1.000000           1.000000   \n",
       "25%            2.000000                2.000000           2.000000   \n",
       "50%            3.000000                3.000000           3.000000   \n",
       "75%            4.000000                4.000000           4.000000   \n",
       "max            5.000000                5.000000           5.000000   \n",
       "\n",
       "       Spending on gadgets  Spending on healthy eating          Age  \\\n",
       "count          1010.000000                  1008.00000  1003.000000   \n",
       "mean              2.870297                     3.55754    20.433699   \n",
       "std               1.284970                     1.09375     2.828840   \n",
       "min               1.000000                     1.00000    15.000000   \n",
       "25%               2.000000                     3.00000    19.000000   \n",
       "50%               3.000000                     4.00000    20.000000   \n",
       "75%               4.000000                     4.00000    22.000000   \n",
       "max               5.000000                     5.00000    30.000000   \n",
       "\n",
       "           Height      Weight  Number of siblings  \n",
       "count  990.000000  990.000000         1004.000000  \n",
       "mean   173.514141   66.405051            1.297809  \n",
       "std     10.024505   13.839561            1.013348  \n",
       "min     62.000000   41.000000            0.000000  \n",
       "25%    167.000000   55.000000            1.000000  \n",
       "50%    173.000000   64.000000            1.000000  \n",
       "75%    180.000000   75.000000            2.000000  \n",
       "max    203.000000  165.000000           10.000000  \n",
       "\n",
       "[8 rows x 139 columns]"
      ]
     },
     "execution_count": 531,
     "metadata": {},
     "output_type": "execute_result"
    }
   ],
   "source": [
    "d.data.describe()"
   ]
  },
  {
   "cell_type": "code",
   "execution_count": 532,
   "metadata": {},
   "outputs": [
    {
     "data": {
      "text/plain": [
       "(1010, 150)"
      ]
     },
     "execution_count": 532,
     "metadata": {},
     "output_type": "execute_result"
    }
   ],
   "source": [
    "d.data.shape"
   ]
  },
  {
   "cell_type": "code",
   "execution_count": 533,
   "metadata": {},
   "outputs": [
    {
     "data": {
      "text/plain": [
       "'categorical_variables_mask = (d.data.dtypes==object) \\ncategorical_variables = categorical_variables_mask.tolist()\\nnumerical_variables = d.data.columns[~categorical_variables_mask]\\ncov=d.data[numerical_variables].corr(method=\\'pearson\\')\\ncm = sns.clustermap(cov, annot=True, center=0, cmap=\"Blues\", figsize=(150, 150))\\ncm.cax.set_visible(False)\\n#cm=sns.heatmap(cov, annot=True, center=0, cmap=\"Blues\")'"
      ]
     },
     "execution_count": 533,
     "metadata": {},
     "output_type": "execute_result"
    }
   ],
   "source": [
    "\"\"\"categorical_variables_mask = (d.data.dtypes==object) \n",
    "categorical_variables = categorical_variables_mask.tolist()\n",
    "numerical_variables = d.data.columns[~categorical_variables_mask]\n",
    "cov=d.data[numerical_variables].corr(method='pearson')\n",
    "cm = sns.clustermap(cov, annot=True, center=0, cmap=\"Blues\", figsize=(150, 150))\n",
    "cm.cax.set_visible(False)\n",
    "#cm=sns.heatmap(cov, annot=True, center=0, cmap=\"Blues\")\"\"\""
   ]
  },
  {
   "cell_type": "markdown",
   "metadata": {},
   "source": [
    "# Preprocessing"
   ]
  },
  {
   "cell_type": "markdown",
   "metadata": {},
   "source": [
    "## Missing values of the target feature"
   ]
  },
  {
   "cell_type": "code",
   "execution_count": 534,
   "metadata": {
    "scrolled": true
   },
   "outputs": [
    {
     "data": {
      "text/plain": [
       "[('Height', 20),\n",
       " ('Weight', 20),\n",
       " ('Passive sport', 15),\n",
       " ('Chemistry', 10),\n",
       " ('Geography', 9),\n",
       " ('Punk', 8),\n",
       " ('Latino', 8),\n",
       " ('Documentary', 8),\n",
       " ('Theatre', 8),\n",
       " ('Smoking', 8),\n",
       " ('Classical music', 7),\n",
       " ('Reggae, Ska', 7),\n",
       " ('Rock n roll', 7),\n",
       " ('Alternative', 7),\n",
       " ('Techno, Trance', 7),\n",
       " ('Countryside, outdoors', 7),\n",
       " ('Gardening', 7),\n",
       " ('Daily events', 7),\n",
       " ('Final judgement', 7),\n",
       " ('Criminal damage', 7),\n",
       " ('Compassion to animals', 7),\n",
       " ('Age', 7),\n",
       " ('Rock', 6),\n",
       " ('Swing, Jazz', 6),\n",
       " ('Movies', 6),\n",
       " ('PC', 6),\n",
       " ('Biology', 6),\n",
       " ('Reading', 6),\n",
       " ('Art exhibitions', 6),\n",
       " ('Writing', 6),\n",
       " ('Science and technology', 6),\n",
       " ('Friends versus money', 6),\n",
       " ('Giving', 6),\n",
       " ('Responding to a serious letter', 6),\n",
       " ('Number of siblings', 6),\n",
       " ('Gender', 6),\n",
       " ('Folk', 5),\n",
       " ('Country', 5),\n",
       " ('Psychology', 5),\n",
       " ('Economy Management', 5),\n",
       " ('Foreign languages', 5),\n",
       " ('Medicine', 5),\n",
       " ('Spiders', 5),\n",
       " ('Alcohol', 5),\n",
       " ('Prioritising workload', 5),\n",
       " ('Workaholism', 5),\n",
       " ('Self-criticism', 5),\n",
       " ('Empathy', 5),\n",
       " ('Socializing', 5),\n",
       " ('Energy levels', 5),\n",
       " ('Getting up', 5),\n",
       " ('Dance', 4),\n",
       " ('Hiphop, Rap', 4),\n",
       " ('Western', 4),\n",
       " ('Internet', 4),\n",
       " ('Cars', 4),\n",
       " ('Active sport', 4),\n",
       " ('Fun with friends', 4),\n",
       " ('Pets', 4),\n",
       " ('Reliability', 4),\n",
       " ('Loss of interest', 4),\n",
       " ('Funniness', 4),\n",
       " ('Decision making', 4),\n",
       " ('Judgment calls', 4),\n",
       " ('Hypochondria', 4),\n",
       " ('Cheating in school', 4),\n",
       " ('Mood swings', 4),\n",
       " ('Children', 4),\n",
       " ('Getting angry', 4),\n",
       " ('Happiness in life', 4),\n",
       " ('Small - big dogs', 4),\n",
       " ('Personality', 4),\n",
       " ('Finding lost valuables', 4),\n",
       " ('Questionnaires or polls', 4),\n",
       " ('Village - town', 4),\n",
       " ('House - block of flats', 4),\n",
       " ('Music', 3),\n",
       " ('Pop', 3),\n",
       " ('Metal or Hardrock', 3),\n",
       " ('Comedy', 3),\n",
       " ('Romantic', 3),\n",
       " ('Fantasy/Fairy tales', 3),\n",
       " ('Animated', 3),\n",
       " ('Mathematics', 3),\n",
       " ('Physics', 3),\n",
       " ('Religion', 3),\n",
       " ('Dancing', 3),\n",
       " ('Adrenaline sports', 3),\n",
       " ('Flying', 3),\n",
       " ('Heights', 3),\n",
       " ('Rats', 3),\n",
       " ('Healthy eating', 3),\n",
       " ('Writing notes', 3),\n",
       " ('Thinking ahead', 3),\n",
       " ('Elections', 3),\n",
       " ('Charity', 3),\n",
       " ('Waiting', 3),\n",
       " ('Appearence and gestures', 3),\n",
       " ('Unpopularity', 3),\n",
       " ('Life struggles', 3),\n",
       " ('Interests or hobbies', 3),\n",
       " ('Finances', 3),\n",
       " ('Entertainment spending', 3),\n",
       " ('Spending on looks', 3),\n",
       " ('Left - right handed', 3),\n",
       " ('Slow songs or fast songs', 2),\n",
       " ('Musical', 2),\n",
       " ('Horror', 2),\n",
       " ('Sci-fi', 2),\n",
       " ('War', 2),\n",
       " ('Action', 2),\n",
       " ('History', 2),\n",
       " ('Celebrities', 2),\n",
       " ('Shopping', 2),\n",
       " ('Darkness', 2),\n",
       " ('Borrowed stuff', 2),\n",
       " ('Changing the past', 2),\n",
       " ('God', 2),\n",
       " ('Punctuality', 2),\n",
       " ('Lying', 2),\n",
       " ('New environment', 2),\n",
       " ('Achievements', 2),\n",
       " ('Assertiveness', 2),\n",
       " ('Knowing the right people', 2),\n",
       " ('Public speaking', 2),\n",
       " (\"Parents' advice\", 2),\n",
       " ('Shopping centres', 2),\n",
       " ('Branded clothing', 2),\n",
       " ('Spending on healthy eating', 2),\n",
       " ('Only child', 2),\n",
       " ('Opera', 1),\n",
       " ('Thriller', 1),\n",
       " ('Politics', 1),\n",
       " ('Law', 1),\n",
       " ('Musical instruments', 1),\n",
       " ('Storm', 1),\n",
       " ('Ageing', 1),\n",
       " ('Dangerous dogs', 1),\n",
       " ('Fear of public speaking', 1),\n",
       " ('Keeping promises', 1),\n",
       " ('Fake', 1),\n",
       " ('Loneliness', 1),\n",
       " ('Health', 1),\n",
       " ('Education', 1)]"
      ]
     },
     "execution_count": 534,
     "metadata": {},
     "output_type": "execute_result"
    }
   ],
   "source": [
    "nulls = d.data.isnull().sum()\n",
    "sorted([(x,y) for (x,y) in zip(nulls.index, nulls) if y>0], key=lambda x: x[1], reverse=True)"
   ]
  },
  {
   "cell_type": "markdown",
   "metadata": {},
   "source": [
    "We have to manage all these missing values. <br>\n",
    "First of all I will remove all the rows that have the target feature \"Empathy\" to null because they have no use. "
   ]
  },
  {
   "cell_type": "code",
   "execution_count": 535,
   "metadata": {},
   "outputs": [
    {
     "name": "stdout",
     "output_type": "stream",
     "text": [
      "Number of rows with Empathy that is null: 5\n",
      "Number of rows with Empathy that is null after: 0\n"
     ]
    }
   ],
   "source": [
    "#removing the rows in which the Empathy attrivute is null\n",
    "#they are not necessary for train or testing\n",
    "nullsEmpathy = d.data[\"Empathy\"].isnull().sum()\n",
    "#nullsEmpathy = 5\n",
    "print(\"Number of rows with Empathy that is null: \"+str(nullsEmpathy))\n",
    "d.data = d.data[d.data[\"Empathy\"].notna()]\n",
    "print(\"Number of rows with Empathy that is null after: \"+str(d.data[\"Empathy\"].isnull().sum()))"
   ]
  },
  {
   "cell_type": "markdown",
   "metadata": {},
   "source": [
    "## Dealing with the categorical variables"
   ]
  },
  {
   "cell_type": "markdown",
   "metadata": {},
   "source": [
    "Now I have to deal with the categorical variables. <br>\n",
    "The first thing that I have to do is to impute the missing values of them. I will use the mode() (which is the most common value for each feature) to impute them."
   ]
  },
  {
   "cell_type": "code",
   "execution_count": 536,
   "metadata": {},
   "outputs": [],
   "source": [
    "#idea, provare a predirre i valori mancanti!"
   ]
  },
  {
   "cell_type": "code",
   "execution_count": 537,
   "metadata": {},
   "outputs": [],
   "source": [
    "categorical=d.data.select_dtypes(include=\"object\", exclude=\"float\")"
   ]
  },
  {
   "cell_type": "code",
   "execution_count": 538,
   "metadata": {},
   "outputs": [],
   "source": [
    "d.data = d.data.select_dtypes(exclude=\"object\")"
   ]
  },
  {
   "cell_type": "code",
   "execution_count": 539,
   "metadata": {},
   "outputs": [
    {
     "data": {
      "text/plain": [
       "Smoking                         tried smoking\n",
       "Alcohol                        social drinker\n",
       "Punctuality               i am always on time\n",
       "Lying                               sometimes\n",
       "Internet usage                few hours a day\n",
       "Gender                                 female\n",
       "Left - right handed              right handed\n",
       "Education                    secondary school\n",
       "Only child                                 no\n",
       "Village - town                           city\n",
       "House - block of flats         block of flats\n",
       "Name: 0, dtype: object"
      ]
     },
     "execution_count": 539,
     "metadata": {},
     "output_type": "execute_result"
    }
   ],
   "source": [
    "categorical.mode().loc[0]"
   ]
  },
  {
   "cell_type": "code",
   "execution_count": 540,
   "metadata": {
    "scrolled": true
   },
   "outputs": [
    {
     "name": "stdout",
     "output_type": "stream",
     "text": [
      "Smoking                   8\n",
      "Alcohol                   5\n",
      "Punctuality               2\n",
      "Lying                     2\n",
      "Internet usage            0\n",
      "Gender                    6\n",
      "Left - right handed       3\n",
      "Education                 1\n",
      "Only child                2\n",
      "Village - town            4\n",
      "House - block of flats    4\n",
      "dtype: int64\n",
      "Smoking                   0\n",
      "Alcohol                   0\n",
      "Punctuality               0\n",
      "Lying                     0\n",
      "Internet usage            0\n",
      "Gender                    0\n",
      "Left - right handed       0\n",
      "Education                 0\n",
      "Only child                0\n",
      "Village - town            0\n",
      "House - block of flats    0\n",
      "dtype: int64\n"
     ]
    }
   ],
   "source": [
    "print(categorical.isnull().sum())\n",
    "categorical = categorical.fillna(categorical.mode().loc[0])\n",
    "print(categorical.isnull().sum())"
   ]
  },
  {
   "cell_type": "markdown",
   "metadata": {},
   "source": [
    "### From categorical to scale"
   ]
  },
  {
   "cell_type": "markdown",
   "metadata": {},
   "source": [
    "From various attempts it turns out that one-hot encoding of all th variables leads to bad results. <br>\n",
    "From the theory we can understand this result because one hot encoding leads to have too many features and, moreover, the values of this categorical attributes are actually in a scale of values even if they are strings, to the best thing to do is to turn them in integers with a scale. (As done below)<br>\n",
    "I will do one-hot encoding only fot the binary features where the two values represents different things."
   ]
  },
  {
   "cell_type": "code",
   "execution_count": 541,
   "metadata": {},
   "outputs": [
    {
     "data": {
      "text/plain": [
       "(1005, 11)"
      ]
     },
     "execution_count": 541,
     "metadata": {},
     "output_type": "execute_result"
    }
   ],
   "source": [
    "categorical.shape"
   ]
  },
  {
   "cell_type": "code",
   "execution_count": 542,
   "metadata": {},
   "outputs": [
    {
     "data": {
      "text/plain": [
       "Index(['Smoking', 'Alcohol', 'Punctuality', 'Lying', 'Internet usage',\n",
       "       'Gender', 'Left - right handed', 'Education', 'Only child',\n",
       "       'Village - town', 'House - block of flats'],\n",
       "      dtype='object')"
      ]
     },
     "execution_count": 542,
     "metadata": {},
     "output_type": "execute_result"
    }
   ],
   "source": [
    "categorical.columns"
   ]
  },
  {
   "cell_type": "code",
   "execution_count": 543,
   "metadata": {},
   "outputs": [],
   "source": [
    "categorical.columns=['Smoking', 'Alcohol', 'Punctuality', 'Lying', 'Internet_usage',\n",
    "       'Gender', 'Left_right_handed', 'Education', 'Only_child',\n",
    "       'Village_town', 'House_block_of_flats']"
   ]
  },
  {
   "cell_type": "code",
   "execution_count": 544,
   "metadata": {
    "scrolled": true
   },
   "outputs": [
    {
     "data": {
      "text/html": [
       "<div>\n",
       "<style scoped>\n",
       "    .dataframe tbody tr th:only-of-type {\n",
       "        vertical-align: middle;\n",
       "    }\n",
       "\n",
       "    .dataframe tbody tr th {\n",
       "        vertical-align: top;\n",
       "    }\n",
       "\n",
       "    .dataframe thead th {\n",
       "        text-align: right;\n",
       "    }\n",
       "</style>\n",
       "<table border=\"1\" class=\"dataframe\">\n",
       "  <thead>\n",
       "    <tr style=\"text-align: right;\">\n",
       "      <th></th>\n",
       "      <th>Smoking</th>\n",
       "      <th>Alcohol</th>\n",
       "      <th>Punctuality</th>\n",
       "      <th>Lying</th>\n",
       "      <th>Internet_usage</th>\n",
       "      <th>Gender</th>\n",
       "      <th>Left_right_handed</th>\n",
       "      <th>Education</th>\n",
       "      <th>Only_child</th>\n",
       "      <th>Village_town</th>\n",
       "      <th>House_block_of_flats</th>\n",
       "    </tr>\n",
       "  </thead>\n",
       "  <tbody>\n",
       "    <tr>\n",
       "      <th>count</th>\n",
       "      <td>1005</td>\n",
       "      <td>1005</td>\n",
       "      <td>1005</td>\n",
       "      <td>1005</td>\n",
       "      <td>1005</td>\n",
       "      <td>1005</td>\n",
       "      <td>1005</td>\n",
       "      <td>1005</td>\n",
       "      <td>1005</td>\n",
       "      <td>1005</td>\n",
       "      <td>1005</td>\n",
       "    </tr>\n",
       "    <tr>\n",
       "      <th>unique</th>\n",
       "      <td>4</td>\n",
       "      <td>3</td>\n",
       "      <td>3</td>\n",
       "      <td>4</td>\n",
       "      <td>4</td>\n",
       "      <td>2</td>\n",
       "      <td>2</td>\n",
       "      <td>6</td>\n",
       "      <td>2</td>\n",
       "      <td>2</td>\n",
       "      <td>2</td>\n",
       "    </tr>\n",
       "    <tr>\n",
       "      <th>top</th>\n",
       "      <td>tried smoking</td>\n",
       "      <td>social drinker</td>\n",
       "      <td>i am always on time</td>\n",
       "      <td>sometimes</td>\n",
       "      <td>few hours a day</td>\n",
       "      <td>female</td>\n",
       "      <td>right handed</td>\n",
       "      <td>secondary school</td>\n",
       "      <td>no</td>\n",
       "      <td>city</td>\n",
       "      <td>block of flats</td>\n",
       "    </tr>\n",
       "    <tr>\n",
       "      <th>freq</th>\n",
       "      <td>437</td>\n",
       "      <td>663</td>\n",
       "      <td>400</td>\n",
       "      <td>546</td>\n",
       "      <td>741</td>\n",
       "      <td>596</td>\n",
       "      <td>904</td>\n",
       "      <td>619</td>\n",
       "      <td>754</td>\n",
       "      <td>707</td>\n",
       "      <td>594</td>\n",
       "    </tr>\n",
       "  </tbody>\n",
       "</table>\n",
       "</div>"
      ],
      "text/plain": [
       "              Smoking         Alcohol          Punctuality      Lying  \\\n",
       "count            1005            1005                 1005       1005   \n",
       "unique              4               3                    3          4   \n",
       "top     tried smoking  social drinker  i am always on time  sometimes   \n",
       "freq              437             663                  400        546   \n",
       "\n",
       "         Internet_usage  Gender Left_right_handed         Education  \\\n",
       "count              1005    1005              1005              1005   \n",
       "unique                4       2                 2                 6   \n",
       "top     few hours a day  female      right handed  secondary school   \n",
       "freq                741     596               904               619   \n",
       "\n",
       "       Only_child Village_town House_block_of_flats  \n",
       "count        1005         1005                 1005  \n",
       "unique          2            2                    2  \n",
       "top            no         city       block of flats  \n",
       "freq          754          707                  594  "
      ]
     },
     "execution_count": 544,
     "metadata": {},
     "output_type": "execute_result"
    }
   ],
   "source": [
    "categorical.describe()"
   ]
  },
  {
   "cell_type": "code",
   "execution_count": 545,
   "metadata": {
    "scrolled": true
   },
   "outputs": [
    {
     "data": {
      "text/plain": [
       "array(['never smoked', 'tried smoking', 'former smoker', 'current smoker'],\n",
       "      dtype=object)"
      ]
     },
     "execution_count": 545,
     "metadata": {},
     "output_type": "execute_result"
    }
   ],
   "source": [
    "categorical.Smoking.unique()"
   ]
  },
  {
   "cell_type": "code",
   "execution_count": 546,
   "metadata": {},
   "outputs": [],
   "source": [
    "for row in categorical.itertuples():#range(len(categorical[\"Smoking\"])):\n",
    "    #print(row)\n",
    "    #if(i==607 or i==722 or i==845 or i==858 or i==921 ):\n",
    "    #    continue\n",
    "    #print(row.Smoking)\n",
    "    #print(row.Index)\n",
    "    if(row.Smoking==\"never smoked\"):\n",
    "        categorical['Smoking'][row.Index]=1\n",
    "        continue\n",
    "    if(row.Smoking==\"tried smoking\"):\n",
    "        categorical['Smoking'][row.Index]=2\n",
    "        continue\n",
    "    if(row.Smoking==\"former smoker\"):\n",
    "        categorical['Smoking'][row.Index]=3\n",
    "        continue\n",
    "    if(row.Smoking==\"current smoker\"):\n",
    "        categorical['Smoking'][row.Index]=4\n",
    "        continue"
   ]
  },
  {
   "cell_type": "code",
   "execution_count": 547,
   "metadata": {
    "scrolled": true
   },
   "outputs": [
    {
     "data": {
      "text/plain": [
       "array([1, 2, 3, 4], dtype=object)"
      ]
     },
     "execution_count": 547,
     "metadata": {},
     "output_type": "execute_result"
    }
   ],
   "source": [
    "categorical.Smoking.unique()"
   ]
  },
  {
   "cell_type": "code",
   "execution_count": 548,
   "metadata": {
    "scrolled": false
   },
   "outputs": [
    {
     "data": {
      "text/plain": [
       "array(['drink a lot', 'social drinker', 'never'], dtype=object)"
      ]
     },
     "execution_count": 548,
     "metadata": {},
     "output_type": "execute_result"
    }
   ],
   "source": [
    "categorical.Alcohol.unique()"
   ]
  },
  {
   "cell_type": "code",
   "execution_count": 549,
   "metadata": {},
   "outputs": [],
   "source": [
    "for row in categorical.itertuples():\n",
    "    if(row.Alcohol==\"never\"):\n",
    "        categorical['Alcohol'][row.Index]=1\n",
    "        continue\n",
    "    if(row.Alcohol==\"social drinker\"):\n",
    "        categorical['Alcohol'][row.Index]=2\n",
    "        continue\n",
    "    if(row.Alcohol==\"drink a lot\"):\n",
    "        categorical['Alcohol'][row.Index]=3\n",
    "        continue"
   ]
  },
  {
   "cell_type": "code",
   "execution_count": 550,
   "metadata": {},
   "outputs": [
    {
     "data": {
      "text/plain": [
       "array([3, 2, 1], dtype=object)"
      ]
     },
     "execution_count": 550,
     "metadata": {},
     "output_type": "execute_result"
    }
   ],
   "source": [
    "categorical.Alcohol.unique()"
   ]
  },
  {
   "cell_type": "code",
   "execution_count": 551,
   "metadata": {
    "scrolled": true
   },
   "outputs": [
    {
     "data": {
      "text/plain": [
       "array(['i am always on time', 'i am often early',\n",
       "       'i am often running late'], dtype=object)"
      ]
     },
     "execution_count": 551,
     "metadata": {},
     "output_type": "execute_result"
    }
   ],
   "source": [
    "categorical.Punctuality.unique()"
   ]
  },
  {
   "cell_type": "code",
   "execution_count": 552,
   "metadata": {},
   "outputs": [],
   "source": [
    "for row in categorical.itertuples():\n",
    "    if(row.Punctuality==\"i am often running late\"):\n",
    "        categorical['Punctuality'][row.Index]=1\n",
    "        continue\n",
    "    if(row.Punctuality==\"i am always on time\"):\n",
    "        categorical['Punctuality'][row.Index]=2\n",
    "        continue\n",
    "    if(row.Punctuality==\"i am often early\"):\n",
    "        categorical['Punctuality'][row.Index]=3\n",
    "        continue"
   ]
  },
  {
   "cell_type": "code",
   "execution_count": 553,
   "metadata": {},
   "outputs": [
    {
     "data": {
      "text/plain": [
       "array([2, 3, 1], dtype=object)"
      ]
     },
     "execution_count": 553,
     "metadata": {},
     "output_type": "execute_result"
    }
   ],
   "source": [
    "categorical.Punctuality.unique()"
   ]
  },
  {
   "cell_type": "code",
   "execution_count": 554,
   "metadata": {
    "scrolled": true
   },
   "outputs": [
    {
     "data": {
      "text/plain": [
       "array(['never', 'sometimes', 'only to avoid hurting someone',\n",
       "       'everytime it suits me'], dtype=object)"
      ]
     },
     "execution_count": 554,
     "metadata": {},
     "output_type": "execute_result"
    }
   ],
   "source": [
    "categorical.Lying.unique()"
   ]
  },
  {
   "cell_type": "code",
   "execution_count": 555,
   "metadata": {},
   "outputs": [],
   "source": [
    "for row in categorical.itertuples():\n",
    "    if(row.Lying==\"everytime it suits me\"):\n",
    "        categorical['Lying'][row.Index]=1\n",
    "        continue\n",
    "    if(row.Lying==\"sometimes\"):\n",
    "        categorical['Lying'][row.Index]=2\n",
    "        continue\n",
    "    if(row.Lying==\"only to avoid hurting someone\"):\n",
    "        categorical['Lying'][row.Index]=3\n",
    "        continue\n",
    "    if(row.Lying==\"never\"):\n",
    "        categorical['Lying'][row.Index]=4\n",
    "        continue"
   ]
  },
  {
   "cell_type": "code",
   "execution_count": 556,
   "metadata": {},
   "outputs": [
    {
     "data": {
      "text/plain": [
       "array([4, 2, 3, 1], dtype=object)"
      ]
     },
     "execution_count": 556,
     "metadata": {},
     "output_type": "execute_result"
    }
   ],
   "source": [
    "categorical.Lying.unique()"
   ]
  },
  {
   "cell_type": "code",
   "execution_count": 557,
   "metadata": {
    "scrolled": true
   },
   "outputs": [
    {
     "data": {
      "text/plain": [
       "array(['few hours a day', 'most of the day', 'less than an hour a day',\n",
       "       'no time at all'], dtype=object)"
      ]
     },
     "execution_count": 557,
     "metadata": {},
     "output_type": "execute_result"
    }
   ],
   "source": [
    "categorical.Internet_usage.unique()"
   ]
  },
  {
   "cell_type": "code",
   "execution_count": 558,
   "metadata": {},
   "outputs": [],
   "source": [
    "for row in categorical.itertuples():\n",
    "    if(row.Internet_usage==\"most of the day\"):\n",
    "        categorical['Internet_usage'][row.Index]=1\n",
    "        continue\n",
    "    if(row.Internet_usage==\"few hours a day\"):\n",
    "        categorical['Internet_usage'][row.Index]=2\n",
    "        continue\n",
    "    if(row.Internet_usage==\"less than an hour a day\"):\n",
    "        categorical['Internet_usage'][row.Index]=3\n",
    "        continue\n",
    "    if(row.Internet_usage==\"no time at all\"):\n",
    "        categorical['Internet_usage'][row.Index]=4\n",
    "        continue"
   ]
  },
  {
   "cell_type": "code",
   "execution_count": 559,
   "metadata": {},
   "outputs": [
    {
     "data": {
      "text/plain": [
       "array([2, 1, 3, 4], dtype=object)"
      ]
     },
     "execution_count": 559,
     "metadata": {},
     "output_type": "execute_result"
    }
   ],
   "source": [
    "categorical.Internet_usage.unique()"
   ]
  },
  {
   "cell_type": "code",
   "execution_count": 560,
   "metadata": {
    "scrolled": true
   },
   "outputs": [
    {
     "data": {
      "text/plain": [
       "array(['college/bachelor degree', 'secondary school', 'primary school',\n",
       "       'masters degree', 'doctorate degree',\n",
       "       'currently a primary school pupil'], dtype=object)"
      ]
     },
     "execution_count": 560,
     "metadata": {},
     "output_type": "execute_result"
    }
   ],
   "source": [
    "categorical.Education.unique()"
   ]
  },
  {
   "cell_type": "code",
   "execution_count": 561,
   "metadata": {},
   "outputs": [],
   "source": [
    "for row in categorical.itertuples():\n",
    "    if(row.Education==\"currently a primary school pupil\"):\n",
    "        categorical['Education'][row.Index]=1\n",
    "        continue\n",
    "    if(row.Education==\"primary school\"):\n",
    "        categorical['Education'][row.Index]=2\n",
    "        continue\n",
    "    if(row.Education==\"secondary school\"):\n",
    "        categorical['Education'][row.Index]=3\n",
    "        continue\n",
    "    if(row.Education==\"college/bachelor degree\"):\n",
    "        categorical['Education'][row.Index]=4\n",
    "        continue\n",
    "    if(row.Education==\"masters degree\"):\n",
    "        categorical['Education'][row.Index]=5\n",
    "        continue\n",
    "    if(row.Education==\"doctorate degree\"):\n",
    "        categorical['Education'][row.Index]=6\n",
    "        continue"
   ]
  },
  {
   "cell_type": "code",
   "execution_count": 562,
   "metadata": {},
   "outputs": [
    {
     "data": {
      "text/plain": [
       "array([4, 3, 2, 5, 6, 1], dtype=object)"
      ]
     },
     "execution_count": 562,
     "metadata": {},
     "output_type": "execute_result"
    }
   ],
   "source": [
    "categorical.Education.unique()"
   ]
  },
  {
   "cell_type": "code",
   "execution_count": 563,
   "metadata": {
    "scrolled": false
   },
   "outputs": [
    {
     "data": {
      "text/html": [
       "<div>\n",
       "<style scoped>\n",
       "    .dataframe tbody tr th:only-of-type {\n",
       "        vertical-align: middle;\n",
       "    }\n",
       "\n",
       "    .dataframe tbody tr th {\n",
       "        vertical-align: top;\n",
       "    }\n",
       "\n",
       "    .dataframe thead th {\n",
       "        text-align: right;\n",
       "    }\n",
       "</style>\n",
       "<table border=\"1\" class=\"dataframe\">\n",
       "  <thead>\n",
       "    <tr style=\"text-align: right;\">\n",
       "      <th></th>\n",
       "      <th>Smoking</th>\n",
       "      <th>Alcohol</th>\n",
       "      <th>Punctuality</th>\n",
       "      <th>Lying</th>\n",
       "      <th>Internet_usage</th>\n",
       "      <th>Gender</th>\n",
       "      <th>Left_right_handed</th>\n",
       "      <th>Education</th>\n",
       "      <th>Only_child</th>\n",
       "      <th>Village_town</th>\n",
       "      <th>House_block_of_flats</th>\n",
       "    </tr>\n",
       "  </thead>\n",
       "  <tbody>\n",
       "    <tr>\n",
       "      <th>count</th>\n",
       "      <td>1005</td>\n",
       "      <td>1005</td>\n",
       "      <td>1005</td>\n",
       "      <td>1005</td>\n",
       "      <td>1005</td>\n",
       "      <td>1005</td>\n",
       "      <td>1005</td>\n",
       "      <td>1005</td>\n",
       "      <td>1005</td>\n",
       "      <td>1005</td>\n",
       "      <td>1005</td>\n",
       "    </tr>\n",
       "    <tr>\n",
       "      <th>unique</th>\n",
       "      <td>4</td>\n",
       "      <td>3</td>\n",
       "      <td>3</td>\n",
       "      <td>4</td>\n",
       "      <td>4</td>\n",
       "      <td>2</td>\n",
       "      <td>2</td>\n",
       "      <td>6</td>\n",
       "      <td>2</td>\n",
       "      <td>2</td>\n",
       "      <td>2</td>\n",
       "    </tr>\n",
       "    <tr>\n",
       "      <th>top</th>\n",
       "      <td>2</td>\n",
       "      <td>2</td>\n",
       "      <td>2</td>\n",
       "      <td>2</td>\n",
       "      <td>2</td>\n",
       "      <td>female</td>\n",
       "      <td>right handed</td>\n",
       "      <td>3</td>\n",
       "      <td>no</td>\n",
       "      <td>city</td>\n",
       "      <td>block of flats</td>\n",
       "    </tr>\n",
       "    <tr>\n",
       "      <th>freq</th>\n",
       "      <td>437</td>\n",
       "      <td>663</td>\n",
       "      <td>400</td>\n",
       "      <td>546</td>\n",
       "      <td>741</td>\n",
       "      <td>596</td>\n",
       "      <td>904</td>\n",
       "      <td>619</td>\n",
       "      <td>754</td>\n",
       "      <td>707</td>\n",
       "      <td>594</td>\n",
       "    </tr>\n",
       "  </tbody>\n",
       "</table>\n",
       "</div>"
      ],
      "text/plain": [
       "        Smoking  Alcohol  Punctuality  Lying  Internet_usage  Gender  \\\n",
       "count      1005     1005         1005   1005            1005    1005   \n",
       "unique        4        3            3      4               4       2   \n",
       "top           2        2            2      2               2  female   \n",
       "freq        437      663          400    546             741     596   \n",
       "\n",
       "       Left_right_handed  Education Only_child Village_town  \\\n",
       "count               1005       1005       1005         1005   \n",
       "unique                 2          6          2            2   \n",
       "top         right handed          3         no         city   \n",
       "freq                 904        619        754          707   \n",
       "\n",
       "       House_block_of_flats  \n",
       "count                  1005  \n",
       "unique                    2  \n",
       "top          block of flats  \n",
       "freq                    594  "
      ]
     },
     "execution_count": 563,
     "metadata": {},
     "output_type": "execute_result"
    }
   ],
   "source": [
    "categorical.describe()"
   ]
  },
  {
   "cell_type": "markdown",
   "metadata": {},
   "source": [
    "#### One-hot encoding of categorical variables that are left"
   ]
  },
  {
   "cell_type": "code",
   "execution_count": 564,
   "metadata": {},
   "outputs": [
    {
     "data": {
      "text/plain": [
       "(1005, 11)"
      ]
     },
     "execution_count": 564,
     "metadata": {},
     "output_type": "execute_result"
    }
   ],
   "source": [
    "categorical.shape"
   ]
  },
  {
   "cell_type": "code",
   "execution_count": 565,
   "metadata": {},
   "outputs": [],
   "source": [
    "categorical[\"Smoking\"]=categorical[\"Smoking\"].astype(\"float64\")\n",
    "categorical[\"Alcohol\"]=categorical[\"Alcohol\"].astype(\"float64\")\n",
    "categorical[\"Punctuality\"]=categorical[\"Punctuality\"].astype(\"float64\")\n",
    "categorical[\"Lying\"]=categorical[\"Lying\"].astype(\"float64\")\n",
    "categorical[\"Internet_usage\"]=categorical[\"Internet_usage\"].astype(\"float64\")\n",
    "categorical[\"Education\"]=categorical[\"Education\"].astype(\"float64\")"
   ]
  },
  {
   "cell_type": "code",
   "execution_count": 566,
   "metadata": {},
   "outputs": [
    {
     "data": {
      "text/plain": [
       "Smoking                 float64\n",
       "Alcohol                 float64\n",
       "Punctuality             float64\n",
       "Lying                   float64\n",
       "Internet_usage          float64\n",
       "Gender                   object\n",
       "Left_right_handed        object\n",
       "Education               float64\n",
       "Only_child               object\n",
       "Village_town             object\n",
       "House_block_of_flats     object\n",
       "dtype: object"
      ]
     },
     "execution_count": 566,
     "metadata": {},
     "output_type": "execute_result"
    }
   ],
   "source": [
    "categorical.dtypes"
   ]
  },
  {
   "cell_type": "code",
   "execution_count": 567,
   "metadata": {},
   "outputs": [],
   "source": [
    "categorical2=categorical.select_dtypes(include=\"object\", exclude=\"float64\")\n",
    "categorical = categorical.select_dtypes(exclude=\"object\")"
   ]
  },
  {
   "cell_type": "code",
   "execution_count": 568,
   "metadata": {},
   "outputs": [],
   "source": [
    "categoricalDummied = pd.get_dummies(categorical2)"
   ]
  },
  {
   "cell_type": "code",
   "execution_count": 569,
   "metadata": {
    "scrolled": true
   },
   "outputs": [
    {
     "data": {
      "text/plain": [
       "(1005, 10)"
      ]
     },
     "execution_count": 569,
     "metadata": {},
     "output_type": "execute_result"
    }
   ],
   "source": [
    "categoricalDummied.shape"
   ]
  },
  {
   "cell_type": "markdown",
   "metadata": {},
   "source": [
    "#### Imputation of missing values for the numerical features"
   ]
  },
  {
   "cell_type": "markdown",
   "metadata": {},
   "source": [
    "I wil use the mean value of each attribute to impute the value of missing values for numerical features"
   ]
  },
  {
   "cell_type": "code",
   "execution_count": 570,
   "metadata": {},
   "outputs": [],
   "source": [
    "d.data=d.data.fillna(d.data.mean())"
   ]
  },
  {
   "cell_type": "markdown",
   "metadata": {},
   "source": [
    "## Outliers: Boxplot and Winsorizing"
   ]
  },
  {
   "cell_type": "code",
   "execution_count": 571,
   "metadata": {
    "scrolled": true
   },
   "outputs": [
    {
     "data": {
      "text/plain": [
       "Height                194.96\n",
       "Weight                102.92\n",
       "Age                    29.00\n",
       "Number of siblings      5.00\n",
       "Geography               5.00\n",
       "Religion                5.00\n",
       "Art exhibitions         5.00\n",
       "Cars                    5.00\n",
       "Name: 0.99, dtype: float64"
      ]
     },
     "execution_count": 571,
     "metadata": {},
     "output_type": "execute_result"
    }
   ],
   "source": [
    "d.data.quantile(.99).sort_values(ascending=False).head(8)"
   ]
  },
  {
   "cell_type": "code",
   "execution_count": 572,
   "metadata": {},
   "outputs": [],
   "source": [
    "def q(col, quant, f):\n",
    "    t = d.data[col].quantile(quant)\n",
    "    print(f'col {col} at {quant}-th quantile => {t}')\n",
    "    d.data.loc[f(d.data[col], t), col] = t"
   ]
  },
  {
   "cell_type": "code",
   "execution_count": 573,
   "metadata": {},
   "outputs": [
    {
     "data": {
      "text/plain": [
       "<matplotlib.axes._subplots.AxesSubplot at 0x251f43f7f98>"
      ]
     },
     "execution_count": 573,
     "metadata": {},
     "output_type": "execute_result"
    },
    {
     "data": {
      "image/png": "[encoded data removed]",
      "text/plain": [
       "<Figure size 432x288 with 1 Axes>"
      ]
     },
     "metadata": {},
     "output_type": "display_data"
    }
   ],
   "source": [
    "sns.set_context(\"notebook\", font_scale=1.5, rc={\"lines.linewidth\": 1})\n",
    "sns.boxplot(y=\"Height\", data=d.data)"
   ]
  },
  {
   "cell_type": "code",
   "execution_count": 574,
   "metadata": {},
   "outputs": [
    {
     "name": "stdout",
     "output_type": "stream",
     "text": [
      "col Height at 0.99-th quantile => 194.96000000000004\n",
      "col Height at 0.1-th quantile => 162.0\n"
     ]
    },
    {
     "data": {
      "text/plain": [
       "<matplotlib.axes._subplots.AxesSubplot at 0x251f38742b0>"
      ]
     },
     "execution_count": 574,
     "metadata": {},
     "output_type": "execute_result"
    },
    {
     "data": {
      "image/png": "[encoded data removed]",
      "text/plain": [
       "<Figure size 432x288 with 1 Axes>"
      ]
     },
     "metadata": {},
     "output_type": "display_data"
    }
   ],
   "source": [
    "q(\"Height\", .99, lambda x, y: x > y)\n",
    "q(\"Height\", .1, lambda x,y: x < y)\n",
    "sns.boxplot(y=\"Height\", data=d.data)"
   ]
  },
  {
   "cell_type": "code",
   "execution_count": 575,
   "metadata": {
    "scrolled": true
   },
   "outputs": [
    {
     "data": {
      "text/plain": [
       "<matplotlib.axes._subplots.AxesSubplot at 0x251f3a4ee10>"
      ]
     },
     "execution_count": 575,
     "metadata": {},
     "output_type": "execute_result"
    },
    {
     "data": {
      "image/png": "[encoded data removed]",
      "text/plain": [
       "<Figure size 432x288 with 1 Axes>"
      ]
     },
     "metadata": {},
     "output_type": "display_data"
    }
   ],
   "source": [
    "sns.boxplot(y=\"Weight\", data=d.data)"
   ]
  },
  {
   "cell_type": "code",
   "execution_count": 576,
   "metadata": {},
   "outputs": [
    {
     "name": "stdout",
     "output_type": "stream",
     "text": [
      "col Weight at 0.99-th quantile => 102.92000000000007\n",
      "col Weight at 0.1-th quantile => 51.0\n"
     ]
    },
    {
     "data": {
      "text/plain": [
       "<matplotlib.axes._subplots.AxesSubplot at 0x251f3a69f98>"
      ]
     },
     "execution_count": 576,
     "metadata": {},
     "output_type": "execute_result"
    },
    {
     "data": {
      "image/png": "[encoded data removed]",
      "text/plain": [
       "<Figure size 432x288 with 1 Axes>"
      ]
     },
     "metadata": {},
     "output_type": "display_data"
    }
   ],
   "source": [
    "q(\"Weight\", .99, lambda x, y: x > y)\n",
    "q(\"Weight\", .1, lambda x,y: x < y)\n",
    "sns.boxplot(y=\"Weight\", data=d.data)"
   ]
  },
  {
   "cell_type": "code",
   "execution_count": 577,
   "metadata": {
    "scrolled": false
   },
   "outputs": [
    {
     "data": {
      "text/plain": [
       "<matplotlib.axes._subplots.AxesSubplot at 0x251f3a6a0b8>"
      ]
     },
     "execution_count": 577,
     "metadata": {},
     "output_type": "execute_result"
    },
    {
     "data": {
      "image/png": "[encoded data removed]",
      "text/plain": [
       "<Figure size 432x288 with 1 Axes>"
      ]
     },
     "metadata": {},
     "output_type": "display_data"
    }
   ],
   "source": [
    "sns.boxplot(y=\"Age\", data=d.data)"
   ]
  },
  {
   "cell_type": "code",
   "execution_count": 578,
   "metadata": {},
   "outputs": [
    {
     "name": "stdout",
     "output_type": "stream",
     "text": [
      "col Age at 0.95-th quantile => 27.0\n"
     ]
    },
    {
     "data": {
      "text/plain": [
       "<matplotlib.axes._subplots.AxesSubplot at 0x251f42bd128>"
      ]
     },
     "execution_count": 578,
     "metadata": {},
     "output_type": "execute_result"
    },
    {
     "data": {
      "image/png": "[encoded data removed]",
      "text/plain": [
       "<Figure size 432x288 with 1 Axes>"
      ]
     },
     "metadata": {},
     "output_type": "display_data"
    }
   ],
   "source": [
    "q(\"Age\", .95, lambda x, y: x > y)\n",
    "#q(\"Age\", .1, lambda x,y: x < y)\n",
    "sns.boxplot(y=\"Age\", data=d.data)"
   ]
  },
  {
   "cell_type": "markdown",
   "metadata": {},
   "source": [
    "## Normalization of Numerical Variables"
   ]
  },
  {
   "cell_type": "code",
   "execution_count": null,
   "metadata": {},
   "outputs": [],
   "source": []
  },
  {
   "cell_type": "code",
   "execution_count": 579,
   "metadata": {},
   "outputs": [
    {
     "name": "stderr",
     "output_type": "stream",
     "text": [
      "C:\\Users\\andre\\Anaconda3\\envs\\cs412\\lib\\site-packages\\sklearn\\preprocessing\\data.py:323: DataConversionWarning: Data with input dtype int64, float64 were all converted to float64 by MinMaxScaler.\n",
      "  return self.partial_fit(X, y)\n"
     ]
    }
   ],
   "source": [
    "from sklearn.preprocessing import MinMaxScaler\n",
    "scaler = MinMaxScaler(feature_range=(1, 5), copy=True)\n",
    "scaled_df = scaler.fit_transform(d.data)\n",
    "scaled_df = pd.DataFrame(scaled_df, columns=d.data.columns)"
   ]
  },
  {
   "cell_type": "code",
   "execution_count": 580,
   "metadata": {},
   "outputs": [],
   "source": [
    "d.data=scaled_df"
   ]
  },
  {
   "cell_type": "code",
   "execution_count": 581,
   "metadata": {},
   "outputs": [],
   "source": [
    "d.data= pd.concat([d.data,categoricalDummied,categorical],axis=1,join='inner')"
   ]
  },
  {
   "cell_type": "code",
   "execution_count": 582,
   "metadata": {},
   "outputs": [
    {
     "data": {
      "text/html": [
       "<div>\n",
       "<style scoped>\n",
       "    .dataframe tbody tr th:only-of-type {\n",
       "        vertical-align: middle;\n",
       "    }\n",
       "\n",
       "    .dataframe tbody tr th {\n",
       "        vertical-align: top;\n",
       "    }\n",
       "\n",
       "    .dataframe thead th {\n",
       "        text-align: right;\n",
       "    }\n",
       "</style>\n",
       "<table border=\"1\" class=\"dataframe\">\n",
       "  <thead>\n",
       "    <tr style=\"text-align: right;\">\n",
       "      <th></th>\n",
       "      <th>Music</th>\n",
       "      <th>Slow songs or fast songs</th>\n",
       "      <th>Dance</th>\n",
       "      <th>Folk</th>\n",
       "      <th>Country</th>\n",
       "      <th>Classical music</th>\n",
       "      <th>Musical</th>\n",
       "      <th>Pop</th>\n",
       "      <th>Rock</th>\n",
       "      <th>Metal or Hardrock</th>\n",
       "      <th>...</th>\n",
       "      <th>Village_town_city</th>\n",
       "      <th>Village_town_village</th>\n",
       "      <th>House_block_of_flats_block of flats</th>\n",
       "      <th>House_block_of_flats_house/bungalow</th>\n",
       "      <th>Smoking</th>\n",
       "      <th>Alcohol</th>\n",
       "      <th>Punctuality</th>\n",
       "      <th>Lying</th>\n",
       "      <th>Internet_usage</th>\n",
       "      <th>Education</th>\n",
       "    </tr>\n",
       "  </thead>\n",
       "  <tbody>\n",
       "    <tr>\n",
       "      <th>count</th>\n",
       "      <td>1000.000000</td>\n",
       "      <td>1000.000000</td>\n",
       "      <td>1000.000000</td>\n",
       "      <td>1000.000000</td>\n",
       "      <td>1000.000000</td>\n",
       "      <td>1000.000000</td>\n",
       "      <td>1000.000000</td>\n",
       "      <td>1000.000000</td>\n",
       "      <td>1000.000000</td>\n",
       "      <td>1000.000000</td>\n",
       "      <td>...</td>\n",
       "      <td>1000.000000</td>\n",
       "      <td>1000.000000</td>\n",
       "      <td>1000.000000</td>\n",
       "      <td>1000.000000</td>\n",
       "      <td>1000.000000</td>\n",
       "      <td>1000.000000</td>\n",
       "      <td>1000.000000</td>\n",
       "      <td>1000.000000</td>\n",
       "      <td>1000.000000</td>\n",
       "      <td>1000.000000</td>\n",
       "    </tr>\n",
       "    <tr>\n",
       "      <th>mean</th>\n",
       "      <td>4.737207</td>\n",
       "      <td>3.331662</td>\n",
       "      <td>3.112452</td>\n",
       "      <td>2.289450</td>\n",
       "      <td>2.124620</td>\n",
       "      <td>2.956691</td>\n",
       "      <td>2.764763</td>\n",
       "      <td>3.466407</td>\n",
       "      <td>3.767595</td>\n",
       "      <td>2.360725</td>\n",
       "      <td>...</td>\n",
       "      <td>0.704000</td>\n",
       "      <td>0.296000</td>\n",
       "      <td>0.592000</td>\n",
       "      <td>0.408000</td>\n",
       "      <td>2.340000</td>\n",
       "      <td>2.095000</td>\n",
       "      <td>2.048000</td>\n",
       "      <td>2.235000</td>\n",
       "      <td>2.022000</td>\n",
       "      <td>3.286000</td>\n",
       "    </tr>\n",
       "    <tr>\n",
       "      <th>std</th>\n",
       "      <td>0.658470</td>\n",
       "      <td>0.831812</td>\n",
       "      <td>1.170802</td>\n",
       "      <td>1.137512</td>\n",
       "      <td>1.076897</td>\n",
       "      <td>1.246873</td>\n",
       "      <td>1.260678</td>\n",
       "      <td>1.158217</td>\n",
       "      <td>1.178434</td>\n",
       "      <td>1.376239</td>\n",
       "      <td>...</td>\n",
       "      <td>0.456719</td>\n",
       "      <td>0.456719</td>\n",
       "      <td>0.491709</td>\n",
       "      <td>0.491709</td>\n",
       "      <td>1.004694</td>\n",
       "      <td>0.576461</td>\n",
       "      <td>0.773495</td>\n",
       "      <td>0.744533</td>\n",
       "      <td>0.519409</td>\n",
       "      <td>0.782826</td>\n",
       "    </tr>\n",
       "    <tr>\n",
       "      <th>min</th>\n",
       "      <td>1.000000</td>\n",
       "      <td>1.000000</td>\n",
       "      <td>1.000000</td>\n",
       "      <td>1.000000</td>\n",
       "      <td>1.000000</td>\n",
       "      <td>1.000000</td>\n",
       "      <td>1.000000</td>\n",
       "      <td>1.000000</td>\n",
       "      <td>1.000000</td>\n",
       "      <td>1.000000</td>\n",
       "      <td>...</td>\n",
       "      <td>0.000000</td>\n",
       "      <td>0.000000</td>\n",
       "      <td>0.000000</td>\n",
       "      <td>0.000000</td>\n",
       "      <td>1.000000</td>\n",
       "      <td>1.000000</td>\n",
       "      <td>1.000000</td>\n",
       "      <td>1.000000</td>\n",
       "      <td>1.000000</td>\n",
       "      <td>1.000000</td>\n",
       "    </tr>\n",
       "    <tr>\n",
       "      <th>25%</th>\n",
       "      <td>5.000000</td>\n",
       "      <td>3.000000</td>\n",
       "      <td>2.000000</td>\n",
       "      <td>1.000000</td>\n",
       "      <td>1.000000</td>\n",
       "      <td>2.000000</td>\n",
       "      <td>2.000000</td>\n",
       "      <td>3.000000</td>\n",
       "      <td>3.000000</td>\n",
       "      <td>1.000000</td>\n",
       "      <td>...</td>\n",
       "      <td>0.000000</td>\n",
       "      <td>0.000000</td>\n",
       "      <td>0.000000</td>\n",
       "      <td>0.000000</td>\n",
       "      <td>2.000000</td>\n",
       "      <td>2.000000</td>\n",
       "      <td>1.000000</td>\n",
       "      <td>2.000000</td>\n",
       "      <td>2.000000</td>\n",
       "      <td>3.000000</td>\n",
       "    </tr>\n",
       "    <tr>\n",
       "      <th>50%</th>\n",
       "      <td>5.000000</td>\n",
       "      <td>3.000000</td>\n",
       "      <td>3.000000</td>\n",
       "      <td>2.000000</td>\n",
       "      <td>2.000000</td>\n",
       "      <td>3.000000</td>\n",
       "      <td>3.000000</td>\n",
       "      <td>4.000000</td>\n",
       "      <td>4.000000</td>\n",
       "      <td>2.000000</td>\n",
       "      <td>...</td>\n",
       "      <td>1.000000</td>\n",
       "      <td>0.000000</td>\n",
       "      <td>1.000000</td>\n",
       "      <td>0.000000</td>\n",
       "      <td>2.000000</td>\n",
       "      <td>2.000000</td>\n",
       "      <td>2.000000</td>\n",
       "      <td>2.000000</td>\n",
       "      <td>2.000000</td>\n",
       "      <td>3.000000</td>\n",
       "    </tr>\n",
       "    <tr>\n",
       "      <th>75%</th>\n",
       "      <td>5.000000</td>\n",
       "      <td>4.000000</td>\n",
       "      <td>4.000000</td>\n",
       "      <td>3.000000</td>\n",
       "      <td>3.000000</td>\n",
       "      <td>4.000000</td>\n",
       "      <td>4.000000</td>\n",
       "      <td>4.000000</td>\n",
       "      <td>5.000000</td>\n",
       "      <td>3.000000</td>\n",
       "      <td>...</td>\n",
       "      <td>1.000000</td>\n",
       "      <td>1.000000</td>\n",
       "      <td>1.000000</td>\n",
       "      <td>1.000000</td>\n",
       "      <td>3.000000</td>\n",
       "      <td>2.000000</td>\n",
       "      <td>3.000000</td>\n",
       "      <td>3.000000</td>\n",
       "      <td>2.000000</td>\n",
       "      <td>4.000000</td>\n",
       "    </tr>\n",
       "    <tr>\n",
       "      <th>max</th>\n",
       "      <td>5.000000</td>\n",
       "      <td>5.000000</td>\n",
       "      <td>5.000000</td>\n",
       "      <td>5.000000</td>\n",
       "      <td>5.000000</td>\n",
       "      <td>5.000000</td>\n",
       "      <td>5.000000</td>\n",
       "      <td>5.000000</td>\n",
       "      <td>5.000000</td>\n",
       "      <td>5.000000</td>\n",
       "      <td>...</td>\n",
       "      <td>1.000000</td>\n",
       "      <td>1.000000</td>\n",
       "      <td>1.000000</td>\n",
       "      <td>1.000000</td>\n",
       "      <td>4.000000</td>\n",
       "      <td>3.000000</td>\n",
       "      <td>3.000000</td>\n",
       "      <td>4.000000</td>\n",
       "      <td>4.000000</td>\n",
       "      <td>6.000000</td>\n",
       "    </tr>\n",
       "  </tbody>\n",
       "</table>\n",
       "<p>8 rows × 155 columns</p>\n",
       "</div>"
      ],
      "text/plain": [
       "             Music  Slow songs or fast songs        Dance         Folk  \\\n",
       "count  1000.000000               1000.000000  1000.000000  1000.000000   \n",
       "mean      4.737207                  3.331662     3.112452     2.289450   \n",
       "std       0.658470                  0.831812     1.170802     1.137512   \n",
       "min       1.000000                  1.000000     1.000000     1.000000   \n",
       "25%       5.000000                  3.000000     2.000000     1.000000   \n",
       "50%       5.000000                  3.000000     3.000000     2.000000   \n",
       "75%       5.000000                  4.000000     4.000000     3.000000   \n",
       "max       5.000000                  5.000000     5.000000     5.000000   \n",
       "\n",
       "           Country  Classical music      Musical          Pop         Rock  \\\n",
       "count  1000.000000      1000.000000  1000.000000  1000.000000  1000.000000   \n",
       "mean      2.124620         2.956691     2.764763     3.466407     3.767595   \n",
       "std       1.076897         1.246873     1.260678     1.158217     1.178434   \n",
       "min       1.000000         1.000000     1.000000     1.000000     1.000000   \n",
       "25%       1.000000         2.000000     2.000000     3.000000     3.000000   \n",
       "50%       2.000000         3.000000     3.000000     4.000000     4.000000   \n",
       "75%       3.000000         4.000000     4.000000     4.000000     5.000000   \n",
       "max       5.000000         5.000000     5.000000     5.000000     5.000000   \n",
       "\n",
       "       Metal or Hardrock     ...       Village_town_city  \\\n",
       "count        1000.000000     ...             1000.000000   \n",
       "mean            2.360725     ...                0.704000   \n",
       "std             1.376239     ...                0.456719   \n",
       "min             1.000000     ...                0.000000   \n",
       "25%             1.000000     ...                0.000000   \n",
       "50%             2.000000     ...                1.000000   \n",
       "75%             3.000000     ...                1.000000   \n",
       "max             5.000000     ...                1.000000   \n",
       "\n",
       "       Village_town_village  House_block_of_flats_block of flats  \\\n",
       "count           1000.000000                          1000.000000   \n",
       "mean               0.296000                             0.592000   \n",
       "std                0.456719                             0.491709   \n",
       "min                0.000000                             0.000000   \n",
       "25%                0.000000                             0.000000   \n",
       "50%                0.000000                             1.000000   \n",
       "75%                1.000000                             1.000000   \n",
       "max                1.000000                             1.000000   \n",
       "\n",
       "       House_block_of_flats_house/bungalow      Smoking      Alcohol  \\\n",
       "count                          1000.000000  1000.000000  1000.000000   \n",
       "mean                              0.408000     2.340000     2.095000   \n",
       "std                               0.491709     1.004694     0.576461   \n",
       "min                               0.000000     1.000000     1.000000   \n",
       "25%                               0.000000     2.000000     2.000000   \n",
       "50%                               0.000000     2.000000     2.000000   \n",
       "75%                               1.000000     3.000000     2.000000   \n",
       "max                               1.000000     4.000000     3.000000   \n",
       "\n",
       "       Punctuality        Lying  Internet_usage    Education  \n",
       "count  1000.000000  1000.000000     1000.000000  1000.000000  \n",
       "mean      2.048000     2.235000        2.022000     3.286000  \n",
       "std       0.773495     0.744533        0.519409     0.782826  \n",
       "min       1.000000     1.000000        1.000000     1.000000  \n",
       "25%       1.000000     2.000000        2.000000     3.000000  \n",
       "50%       2.000000     2.000000        2.000000     3.000000  \n",
       "75%       3.000000     3.000000        2.000000     4.000000  \n",
       "max       3.000000     4.000000        4.000000     6.000000  \n",
       "\n",
       "[8 rows x 155 columns]"
      ]
     },
     "execution_count": 582,
     "metadata": {},
     "output_type": "execute_result"
    }
   ],
   "source": [
    "d.data.describe()"
   ]
  },
  {
   "cell_type": "code",
   "execution_count": 583,
   "metadata": {
    "scrolled": true
   },
   "outputs": [
    {
     "data": {
      "text/plain": [
       "[]"
      ]
     },
     "execution_count": 583,
     "metadata": {},
     "output_type": "execute_result"
    }
   ],
   "source": [
    "nulls = d.data.isnull().sum()\n",
    "sorted([(x,y) for (x,y) in zip(nulls.index, nulls) if y>0], key=lambda x: x[1], reverse=True)"
   ]
  },
  {
   "cell_type": "code",
   "execution_count": 584,
   "metadata": {},
   "outputs": [
    {
     "data": {
      "text/plain": [
       "(1000, 155)"
      ]
     },
     "execution_count": 584,
     "metadata": {},
     "output_type": "execute_result"
    }
   ],
   "source": [
    "d.data.shape"
   ]
  },
  {
   "cell_type": "code",
   "execution_count": 585,
   "metadata": {},
   "outputs": [
    {
     "data": {
      "text/plain": [
       "'# take the numerical features\\nnumeric_feats = d.data.dtypes[d.data.dtypes != \"object\" ].index\\n# compute the skewness but only for non missing variables (we already imputed them but just in case ...)\\nskewed_feats = d.data[numeric_feats].apply(lambda x: skew(x.dropna()))\\n\\nskewness = pd.DataFrame({\"Variable\":skewed_feats.index, \"Skewness\":skewed_feats.data})\\n# select the variables with a skewness above a certain threshold\\nskewness = skewness.sort_values(\\'Skewness\\', ascending=[0])\\nf, ax = plt.subplots(figsize=(40,35))\\nplt.xticks(rotation=\\'90\\')\\nsns.barplot(x=skewness[\\'Variable\\'], y=skewness[\\'Skewness\\'])\\nplt.ylim(0,5)\\nplt.xlabel(\\'Numerical Variables\\', fontsize=15)\\nplt.ylabel(\\'Skewness\\', fontsize=15)\\nplt.title(\\'\\', fontsize=15)'"
      ]
     },
     "execution_count": 585,
     "metadata": {},
     "output_type": "execute_result"
    }
   ],
   "source": [
    "\"\"\"# take the numerical features\n",
    "numeric_feats = d.data.dtypes[d.data.dtypes != \"object\" ].index\n",
    "# compute the skewness but only for non missing variables (we already imputed them but just in case ...)\n",
    "skewed_feats = d.data[numeric_feats].apply(lambda x: skew(x.dropna()))\n",
    "\n",
    "skewness = pd.DataFrame({\"Variable\":skewed_feats.index, \"Skewness\":skewed_feats.data})\n",
    "# select the variables with a skewness above a certain threshold\n",
    "skewness = skewness.sort_values('Skewness', ascending=[0])\n",
    "f, ax = plt.subplots(figsize=(40,35))\n",
    "plt.xticks(rotation='90')\n",
    "sns.barplot(x=skewness['Variable'], y=skewness['Skewness'])\n",
    "plt.ylim(0,5)\n",
    "plt.xlabel('Numerical Variables', fontsize=15)\n",
    "plt.ylabel('Skewness', fontsize=15)\n",
    "plt.title('', fontsize=15)\"\"\""
   ]
  },
  {
   "cell_type": "code",
   "execution_count": null,
   "metadata": {},
   "outputs": [],
   "source": []
  },
  {
   "cell_type": "code",
   "execution_count": null,
   "metadata": {},
   "outputs": [],
   "source": []
  },
  {
   "cell_type": "code",
   "execution_count": null,
   "metadata": {},
   "outputs": [],
   "source": []
  },
  {
   "cell_type": "code",
   "execution_count": null,
   "metadata": {},
   "outputs": [],
   "source": []
  },
  {
   "cell_type": "markdown",
   "metadata": {},
   "source": [
    "# Training and Testing sets"
   ]
  },
  {
   "cell_type": "code",
   "execution_count": 586,
   "metadata": {},
   "outputs": [],
   "source": [
    "X = d.data.drop(columns=['Empathy'])\n",
    "Y = d.data['Empathy']"
   ]
  },
  {
   "cell_type": "markdown",
   "metadata": {},
   "source": [
    "I have now to trasform the target feature from a scale from 1 to 5 to a binary variable 0 (if the vale is 1,2 or 3) and 1 (4 ot 5)."
   ]
  },
  {
   "cell_type": "code",
   "execution_count": 587,
   "metadata": {},
   "outputs": [
    {
     "data": {
      "text/plain": [
       "\"def getBinary(x):\\n    for index, row in x.iterrows():\\n        if(row['Empathy']<=3):\\n            row['Empathy']=0\\n        else:\\n            row['Empathy']=1\""
      ]
     },
     "execution_count": 587,
     "metadata": {},
     "output_type": "execute_result"
    }
   ],
   "source": [
    "def getBinary(x):\n",
    "    res=[]\n",
    "    for i in range(len(x)):\n",
    "        if(x[i]<=3):\n",
    "            res.append(0)\n",
    "        else:\n",
    "            res.append(1)\n",
    "    res = np.array(res)\n",
    "    return res\n",
    "\"\"\"def getBinary(x):\n",
    "    for index, row in x.iterrows():\n",
    "        if(row['Empathy']<=3):\n",
    "            row['Empathy']=0\n",
    "        else:\n",
    "            row['Empathy']=1\"\"\"\n",
    "        "
   ]
  },
  {
   "cell_type": "markdown",
   "metadata": {},
   "source": [
    "# Baseline"
   ]
  },
  {
   "cell_type": "code",
   "execution_count": 588,
   "metadata": {
    "scrolled": true
   },
   "outputs": [],
   "source": [
    "X_train, X_test, Y_train, Y_test = train_test_split(X, Y, stratify=Y, test_size=0.2, random_state=40)"
   ]
  },
  {
   "cell_type": "code",
   "execution_count": 589,
   "metadata": {},
   "outputs": [
    {
     "data": {
      "text/plain": [
       "'X_train=np.array(X_train.values)\\nY_train=np.array(Y_train.values)\\nX_test=np.array(X_test.values)\\nY_test=np.array(Y_test.values)\\nY=np.array(Y.values)'"
      ]
     },
     "execution_count": 589,
     "metadata": {},
     "output_type": "execute_result"
    }
   ],
   "source": [
    "\"\"\"X_train=np.array(X_train.values)\n",
    "Y_train=np.array(Y_train.values)\n",
    "X_test=np.array(X_test.values)\n",
    "Y_test=np.array(Y_test.values)\n",
    "Y=np.array(Y.values)\"\"\""
   ]
  },
  {
   "cell_type": "code",
   "execution_count": 590,
   "metadata": {},
   "outputs": [],
   "source": [
    "#use predict the most common or random"
   ]
  },
  {
   "cell_type": "markdown",
   "metadata": {},
   "source": [
    "I will use as baseline a dump predictor that predict always the most frequent."
   ]
  },
  {
   "cell_type": "code",
   "execution_count": 591,
   "metadata": {
    "scrolled": true
   },
   "outputs": [],
   "source": [
    "Y_train=getBinary(Y_train.values)\n",
    "Y_test=getBinary(Y_test.values)\n",
    "Y=getBinary(Y.values)"
   ]
  },
  {
   "cell_type": "code",
   "execution_count": 592,
   "metadata": {},
   "outputs": [],
   "source": [
    "def trainBaseline(x):\n",
    "    return scipy.stats.mode(x)[0][0]"
   ]
  },
  {
   "cell_type": "code",
   "execution_count": 593,
   "metadata": {},
   "outputs": [],
   "source": [
    "mode=trainBaseline(Y_train)"
   ]
  },
  {
   "cell_type": "code",
   "execution_count": 594,
   "metadata": {},
   "outputs": [],
   "source": [
    "def predictBaseline(test,mostfrequent):\n",
    "    res=[]\n",
    "    for i in range(len(test)):\n",
    "        res.append(mostfrequent)\n",
    "    return np.array(res)"
   ]
  },
  {
   "cell_type": "code",
   "execution_count": 595,
   "metadata": {},
   "outputs": [],
   "source": [
    "predictions=predictBaseline(X_test,mode)"
   ]
  },
  {
   "cell_type": "code",
   "execution_count": 596,
   "metadata": {},
   "outputs": [
    {
     "data": {
      "text/plain": [
       "0.665"
      ]
     },
     "execution_count": 596,
     "metadata": {},
     "output_type": "execute_result"
    }
   ],
   "source": [
    "np.mean(predictions==Y_test)"
   ]
  },
  {
   "cell_type": "markdown",
   "metadata": {},
   "source": [
    "Usign the 20% of my dataset as testing set, this base predictor has an accuracy of 66%"
   ]
  },
  {
   "cell_type": "markdown",
   "metadata": {},
   "source": [
    "# Model1"
   ]
  },
  {
   "cell_type": "markdown",
   "metadata": {},
   "source": [
    "I start trying a Logistic Regression algoritm, I choose as solver the 'liblinear' one that should be one of the most suitable for binary classification in small databases. <br>\n",
    "I'll use the L2 norm for the penalization and a value of C very small. C is the inverse of regularization strength, like in support vector machines, smaller values specify stronger regularization."
   ]
  },
  {
   "cell_type": "code",
   "execution_count": 597,
   "metadata": {
    "scrolled": false
   },
   "outputs": [
    {
     "data": {
      "text/plain": [
       "LogisticRegression(C=0.1, class_weight=None, dual=False, fit_intercept=True,\n",
       "          intercept_scaling=1, max_iter=100, multi_class='ovr',\n",
       "          n_jobs=None, penalty='l2', random_state=123, solver='liblinear',\n",
       "          tol=0.0001, verbose=0, warm_start=False)"
      ]
     },
     "execution_count": 597,
     "metadata": {},
     "output_type": "execute_result"
    }
   ],
   "source": [
    "from sklearn.linear_model import LogisticRegression\n",
    "logReg = LogisticRegression(solver='liblinear',random_state=123, C=0.1,penalty='l2', multi_class='ovr')\n",
    "logReg.fit(X_train, Y_train)"
   ]
  },
  {
   "cell_type": "code",
   "execution_count": 598,
   "metadata": {},
   "outputs": [],
   "source": [
    "predict_train = logReg.predict(X_train) "
   ]
  },
  {
   "cell_type": "code",
   "execution_count": 599,
   "metadata": {},
   "outputs": [
    {
     "data": {
      "text/plain": [
       "0.8175"
      ]
     },
     "execution_count": 599,
     "metadata": {},
     "output_type": "execute_result"
    }
   ],
   "source": [
    "np.mean(predict_train == Y_train)"
   ]
  },
  {
   "cell_type": "code",
   "execution_count": 600,
   "metadata": {},
   "outputs": [],
   "source": [
    "predict_test = logReg.predict(X_test) "
   ]
  },
  {
   "cell_type": "code",
   "execution_count": 601,
   "metadata": {},
   "outputs": [
    {
     "data": {
      "text/plain": [
       "0.7"
      ]
     },
     "execution_count": 601,
     "metadata": {},
     "output_type": "execute_result"
    }
   ],
   "source": [
    "np.mean(predict_test == Y_test)"
   ]
  },
  {
   "cell_type": "markdown",
   "metadata": {},
   "source": [
    "We have already achieved an accuracy of 82% on the training set and an accuracy of 70% on the testing one."
   ]
  },
  {
   "cell_type": "markdown",
   "metadata": {},
   "source": [
    "Now I will try to have a better idea of the real accuracy that that model can reach using a Stratified K-Fold cross validation."
   ]
  },
  {
   "cell_type": "code",
   "execution_count": 602,
   "metadata": {},
   "outputs": [
    {
     "data": {
      "text/plain": [
       "(1000, 154)"
      ]
     },
     "execution_count": 602,
     "metadata": {},
     "output_type": "execute_result"
    }
   ],
   "source": [
    "X.shape"
   ]
  },
  {
   "cell_type": "code",
   "execution_count": 603,
   "metadata": {
    "scrolled": false
   },
   "outputs": [
    {
     "data": {
      "text/plain": [
       "0.7020833333333333"
      ]
     },
     "execution_count": 603,
     "metadata": {},
     "output_type": "execute_result"
    }
   ],
   "source": [
    "np.mean(cross_val_score(logReg, X, Y, cv=240))"
   ]
  },
  {
   "cell_type": "markdown",
   "metadata": {},
   "source": [
    "# Model2"
   ]
  },
  {
   "cell_type": "code",
   "execution_count": 612,
   "metadata": {},
   "outputs": [],
   "source": [
    "def svc_param_selection(X_t, Y_t, n):\n",
    "    params = {'C': [0.001, 0.01, 0.1, 1, 10], 'gamma' : [0.001, 0.01, 0.1, 1]}\n",
    "    gs = GridSearchCV(svm.SVC(kernel='rbf'), params, cv=n,n_jobs=-1)\n",
    "    gs.fit(X_t, Y_t)\n",
    "    return gs.best_params_"
   ]
  },
  {
   "cell_type": "code",
   "execution_count": 613,
   "metadata": {},
   "outputs": [
    {
     "data": {
      "text/plain": [
       "{'C': 10, 'gamma': 0.01}"
      ]
     },
     "execution_count": 613,
     "metadata": {},
     "output_type": "execute_result"
    }
   ],
   "source": [
    "svc_param_selection(X_train,Y_train,20)"
   ]
  },
  {
   "cell_type": "code",
   "execution_count": 614,
   "metadata": {},
   "outputs": [
    {
     "data": {
      "text/plain": [
       "SVC(C=10, cache_size=200, class_weight=None, coef0=0.0,\n",
       "  decision_function_shape='ovr', degree=3, gamma=0.01, kernel='rbf',\n",
       "  max_iter=-1, probability=False, random_state=None, shrinking=True,\n",
       "  tol=0.001, verbose=False)"
      ]
     },
     "execution_count": 614,
     "metadata": {},
     "output_type": "execute_result"
    }
   ],
   "source": [
    "model2=svm.SVC(kernel='rbf',C= 10, gamma= 0.01)\n",
    "model2.fit(X_train,Y_train)"
   ]
  },
  {
   "cell_type": "code",
   "execution_count": 615,
   "metadata": {},
   "outputs": [],
   "source": [
    "prediction2=model2.predict(X_test)"
   ]
  },
  {
   "cell_type": "code",
   "execution_count": 616,
   "metadata": {},
   "outputs": [
    {
     "data": {
      "text/plain": [
       "0.72"
      ]
     },
     "execution_count": 616,
     "metadata": {},
     "output_type": "execute_result"
    }
   ],
   "source": [
    "np.mean(prediction2 == Y_test)"
   ]
  },
  {
   "cell_type": "code",
   "execution_count": null,
   "metadata": {},
   "outputs": [],
   "source": []
  },
  {
   "cell_type": "code",
   "execution_count": null,
   "metadata": {},
   "outputs": [],
   "source": []
  },
  {
   "cell_type": "markdown",
   "metadata": {},
   "source": [
    "# Model 3"
   ]
  },
  {
   "cell_type": "code",
   "execution_count": 57,
   "metadata": {},
   "outputs": [
    {
     "data": {
      "text/plain": [
       "RandomForestClassifier(bootstrap=True, class_weight=None, criterion='gini',\n",
       "            max_depth=100, max_features='auto', max_leaf_nodes=None,\n",
       "            min_impurity_decrease=0.0, min_impurity_split=None,\n",
       "            min_samples_leaf=1, min_samples_split=5,\n",
       "            min_weight_fraction_leaf=0.0, n_estimators=250, n_jobs=None,\n",
       "            oob_score=False, random_state=None, verbose=0,\n",
       "            warm_start=False)"
      ]
     },
     "execution_count": 57,
     "metadata": {},
     "output_type": "execute_result"
    }
   ],
   "source": [
    "# Very heavy to run:\n",
    "rfc = RandomForestClassifier()\n",
    "params = {'n_estimators': [4, 15,20,50,100,200,250,300,350], \n",
    "        #'n_estimators': [4, 6, 9,15,20,50,100,150,200,250,300,350], \n",
    "              #'max_features': ['log2', 'sqrt','auto'],\n",
    "              'max_features': ['auto'],\n",
    "              #'criterion': ['entropy', 'gini'],\n",
    "              'criterion': ['gini'],\n",
    "              'max_depth': [3, 5, 10,50,100,250], \n",
    "              'min_samples_split': [2,3, 5,10,15],\n",
    "              'min_samples_leaf': [1,5,8,18]\n",
    "              #'max_depth': [2, 3, 5, 10,15,20,25,30,50,100], \n",
    "              #'min_samples_split': [2, 3, 5,10],\n",
    "              #'min_samples_leaf': [1,5,8]\n",
    "             }\n",
    "gs = GridSearchCV(clf, params,iid=False,cv=10,n_jobs=-1)\n",
    "gs = gs.fit(X_train, Y_train)\n",
    "rfc = gs.best_estimator_\n",
    "rfc.fit(X_train, Y_train)"
   ]
  },
  {
   "cell_type": "code",
   "execution_count": 58,
   "metadata": {},
   "outputs": [
    {
     "data": {
      "text/plain": [
       "{'criterion': 'gini',\n",
       " 'max_depth': 100,\n",
       " 'max_features': 'auto',\n",
       " 'min_samples_leaf': 1,\n",
       " 'min_samples_split': 5,\n",
       " 'n_estimators': 250}"
      ]
     },
     "execution_count": 58,
     "metadata": {},
     "output_type": "execute_result"
    }
   ],
   "source": [
    "gs.best_params_"
   ]
  },
  {
   "cell_type": "code",
   "execution_count": 59,
   "metadata": {},
   "outputs": [],
   "source": [
    "prediction3=rfc.predict(X_test)"
   ]
  },
  {
   "cell_type": "code",
   "execution_count": 60,
   "metadata": {},
   "outputs": [
    {
     "data": {
      "text/plain": [
       "0.7164179104477612"
      ]
     },
     "execution_count": 60,
     "metadata": {},
     "output_type": "execute_result"
    }
   ],
   "source": [
    "np.mean(prediction3 == Y_test)"
   ]
  },
  {
   "cell_type": "code",
   "execution_count": null,
   "metadata": {},
   "outputs": [],
   "source": [
    "#redone with new preprocessing:"
   ]
  },
  {
   "cell_type": "code",
   "execution_count": 814,
   "metadata": {},
   "outputs": [
    {
     "data": {
      "text/plain": [
       "0.76"
      ]
     },
     "execution_count": 814,
     "metadata": {},
     "output_type": "execute_result"
    }
   ],
   "source": [
    "model3=RandomForestClassifier(bootstrap=True, class_weight=None, criterion='gini',\n",
    "            max_depth=100, max_features='auto', max_leaf_nodes=None,\n",
    "            min_impurity_decrease=0.0, min_impurity_split=None,\n",
    "            min_samples_leaf=1, min_samples_split=5,\n",
    "            min_weight_fraction_leaf=0.0, n_estimators=250, n_jobs=None,\n",
    "            oob_score=False, random_state=129,  \n",
    "            warm_start=False)\n",
    "model3.fit(X_train,Y_train)\n",
    "predict3=model3.predict(X_test)\n",
    "np.mean(predict3 == Y_test)"
   ]
  },
  {
   "cell_type": "markdown",
   "metadata": {},
   "source": [
    "# Model 4"
   ]
  },
  {
   "cell_type": "code",
   "execution_count": 647,
   "metadata": {},
   "outputs": [],
   "source": [
    "import xgboost as xgb"
   ]
  },
  {
   "cell_type": "code",
   "execution_count": 667,
   "metadata": {},
   "outputs": [],
   "source": [
    "xg_reg = xgb.XGBClassifier(n_estimators = 300)"
   ]
  },
  {
   "cell_type": "code",
   "execution_count": 668,
   "metadata": {},
   "outputs": [],
   "source": [
    "xg_reg.fit(X_train,Y_train)\n",
    "\n",
    "preds = xg_reg.predict(X_test)"
   ]
  },
  {
   "cell_type": "code",
   "execution_count": 669,
   "metadata": {},
   "outputs": [
    {
     "data": {
      "text/plain": [
       "0.715"
      ]
     },
     "execution_count": 669,
     "metadata": {},
     "output_type": "execute_result"
    }
   ],
   "source": [
    "xg_reg.score(X_test,Y_test) "
   ]
  },
  {
   "cell_type": "code",
   "execution_count": null,
   "metadata": {},
   "outputs": [],
   "source": []
  },
  {
   "cell_type": "code",
   "execution_count": null,
   "metadata": {},
   "outputs": [],
   "source": []
  },
  {
   "cell_type": "code",
   "execution_count": null,
   "metadata": {},
   "outputs": [],
   "source": []
  },
  {
   "cell_type": "code",
   "execution_count": null,
   "metadata": {},
   "outputs": [],
   "source": []
  },
  {
   "cell_type": "code",
   "execution_count": 74,
   "metadata": {},
   "outputs": [],
   "source": [
    "#heavy to run\n",
    "xgboostClass = xgb.XGBClassifier()\n",
    "parameters = {'n_estimators': [4, 15,20,50,100,200,250,300,350,500,1000],\n",
    "              'objective': ['reg:logistic','binary:logistic'],\n",
    "              'max_depth': [3, 5, 10,50,100,250],\n",
    "              'learning_rate': [0.1,0.5,0.3,0.8,0.01,0.003],\n",
    "              \"subsample\": [0.6, 0.4],\n",
    "              \"colsample_bytree\": [0.7, 0.3],\n",
    "              \"gamma\": [0, 0.5 ]\n",
    "             }"
   ]
  },
  {
   "cell_type": "code",
   "execution_count": 75,
   "metadata": {},
   "outputs": [
    {
     "data": {
      "text/plain": [
       "XGBClassifier(base_score=0.5, booster='gbtree', colsample_bylevel=1,\n",
       "       colsample_bytree=0.3, gamma=0.5, learning_rate=0.01,\n",
       "       max_delta_step=0, max_depth=5, min_child_weight=1, missing=None,\n",
       "       n_estimators=1000, n_jobs=1, nthread=None, objective='reg:logistic',\n",
       "       random_state=0, reg_alpha=0, reg_lambda=1, scale_pos_weight=1,\n",
       "       seed=None, silent=True, subsample=0.6)"
      ]
     },
     "execution_count": 75,
     "metadata": {},
     "output_type": "execute_result"
    }
   ],
   "source": [
    "grid_obj = GridSearchCV(xgboostClass, parameters,iid=False,cv=10,n_jobs=-1)\n",
    "grid_obj = grid_obj.fit(X_train, Y_train)\n",
    "\n",
    "# Set the clf to the best combination of parameters\n",
    "clf = grid_obj.best_estimator_\n",
    "\n",
    "# Fit the best algorithm to the data. \n",
    "clf.fit(X_train, Y_train)"
   ]
  },
  {
   "cell_type": "code",
   "execution_count": 76,
   "metadata": {},
   "outputs": [
    {
     "data": {
      "text/plain": [
       "XGBClassifier(base_score=0.5, booster='gbtree', colsample_bylevel=1,\n",
       "       colsample_bytree=0.3, gamma=0.5, learning_rate=0.01,\n",
       "       max_delta_step=0, max_depth=5, min_child_weight=1, missing=None,\n",
       "       n_estimators=1000, n_jobs=1, nthread=None, objective='reg:logistic',\n",
       "       random_state=0, reg_alpha=0, reg_lambda=1, scale_pos_weight=1,\n",
       "       seed=None, silent=True, subsample=0.6)"
      ]
     },
     "execution_count": 76,
     "metadata": {},
     "output_type": "execute_result"
    }
   ],
   "source": [
    "grid_obj.best_estimator_"
   ]
  },
  {
   "cell_type": "code",
   "execution_count": 77,
   "metadata": {},
   "outputs": [],
   "source": [
    "predict4=clf.predict(X_test)"
   ]
  },
  {
   "cell_type": "code",
   "execution_count": 79,
   "metadata": {
    "scrolled": true
   },
   "outputs": [
    {
     "data": {
      "text/plain": [
       "0.7213930348258707"
      ]
     },
     "execution_count": 79,
     "metadata": {},
     "output_type": "execute_result"
    }
   ],
   "source": [
    "np.mean(predict4 == Y_test)"
   ]
  },
  {
   "cell_type": "code",
   "execution_count": null,
   "metadata": {},
   "outputs": [],
   "source": []
  },
  {
   "cell_type": "code",
   "execution_count": null,
   "metadata": {},
   "outputs": [],
   "source": []
  },
  {
   "cell_type": "code",
   "execution_count": 651,
   "metadata": {},
   "outputs": [],
   "source": [
    "prova = xgb.XGBClassifier(base_score=0.5, booster='gbtree', colsample_bylevel=1,\n",
    "       colsample_bytree=0.3, gamma=0.5, learning_rate=0.001,\n",
    "       max_delta_step=0, max_depth=5, min_child_weight=1, missing=None,\n",
    "       n_estimators=6000, n_jobs=1, nthread=None, objective='reg:logistic',\n",
    "       random_state=0, reg_alpha=0, reg_lambda=1, scale_pos_weight=1,\n",
    "       seed=None, silent=True, subsample=0.6)"
   ]
  },
  {
   "cell_type": "code",
   "execution_count": 652,
   "metadata": {},
   "outputs": [
    {
     "data": {
      "text/plain": [
       "XGBClassifier(base_score=0.5, booster='gbtree', colsample_bylevel=1,\n",
       "       colsample_bytree=0.3, gamma=0.5, learning_rate=0.001,\n",
       "       max_delta_step=0, max_depth=5, min_child_weight=1, missing=None,\n",
       "       n_estimators=6000, n_jobs=1, nthread=None, objective='reg:logistic',\n",
       "       random_state=0, reg_alpha=0, reg_lambda=1, scale_pos_weight=1,\n",
       "       seed=None, silent=True, subsample=0.6)"
      ]
     },
     "execution_count": 652,
     "metadata": {},
     "output_type": "execute_result"
    }
   ],
   "source": [
    "prova.fit(X_train, Y_train)"
   ]
  },
  {
   "cell_type": "code",
   "execution_count": 653,
   "metadata": {},
   "outputs": [],
   "source": [
    "predict5=prova.predict(X_test)"
   ]
  },
  {
   "cell_type": "code",
   "execution_count": 654,
   "metadata": {},
   "outputs": [
    {
     "data": {
      "text/plain": [
       "0.735"
      ]
     },
     "execution_count": 654,
     "metadata": {},
     "output_type": "execute_result"
    }
   ],
   "source": [
    "np.mean(predict5 == Y_test)"
   ]
  },
  {
   "cell_type": "code",
   "execution_count": null,
   "metadata": {},
   "outputs": [],
   "source": []
  },
  {
   "cell_type": "code",
   "execution_count": null,
   "metadata": {},
   "outputs": [],
   "source": []
  },
  {
   "cell_type": "code",
   "execution_count": 785,
   "metadata": {},
   "outputs": [
    {
     "data": {
      "text/plain": [
       "0.73"
      ]
     },
     "execution_count": 785,
     "metadata": {},
     "output_type": "execute_result"
    }
   ],
   "source": [
    "prova = xgb.XGBClassifier(base_score=0.5, booster='gbtree', colsample_bylevel=1,\n",
    "       colsample_bytree=0.3, gamma=0.5, learning_rate=0.001,\n",
    "       max_delta_step=0, max_depth=5, min_child_weight=1, missing=None,\n",
    "       n_estimators=6000, n_jobs=-1, nthread=None, objective='reg:logistic',\n",
    "       random_state=123, reg_alpha=0, reg_lambda=1, scale_pos_weight=1,\n",
    "       seed=None, silent=True, subsample=0.6)\n",
    "prova.fit(X_train, Y_train)\n",
    "predict5=prova.predict(X_test)\n",
    "np.mean(predict5 == Y_test)"
   ]
  },
  {
   "cell_type": "code",
   "execution_count": null,
   "metadata": {},
   "outputs": [],
   "source": []
  },
  {
   "cell_type": "code",
   "execution_count": null,
   "metadata": {},
   "outputs": [],
   "source": []
  },
  {
   "cell_type": "code",
   "execution_count": null,
   "metadata": {},
   "outputs": [],
   "source": []
  },
  {
   "cell_type": "markdown",
   "metadata": {},
   "source": [
    "# Dimensionality reduction"
   ]
  },
  {
   "cell_type": "markdown",
   "metadata": {},
   "source": [
    "## PCA"
   ]
  },
  {
   "cell_type": "code",
   "execution_count": 741,
   "metadata": {
    "scrolled": true
   },
   "outputs": [
    {
     "data": {
      "text/plain": [
       "(1000, 154)"
      ]
     },
     "execution_count": 741,
     "metadata": {},
     "output_type": "execute_result"
    }
   ],
   "source": [
    "X.shape"
   ]
  },
  {
   "cell_type": "code",
   "execution_count": 742,
   "metadata": {},
   "outputs": [
    {
     "data": {
      "text/plain": [
       "(800, 154)"
      ]
     },
     "execution_count": 742,
     "metadata": {},
     "output_type": "execute_result"
    }
   ],
   "source": [
    "X_train.shape"
   ]
  },
  {
   "cell_type": "code",
   "execution_count": 752,
   "metadata": {},
   "outputs": [
    {
     "name": "stdout",
     "output_type": "stream",
     "text": [
      "(800, 130)\n"
     ]
    }
   ],
   "source": [
    "from sklearn.decomposition import PCA\n",
    "pca = PCA(n_components=130)\n",
    "X_trainPCA = pca.fit_transform(X_train)\n",
    "X_testPCA = pca.fit_transform(X_test)\n",
    "print(X_trainPCA.shape)"
   ]
  },
  {
   "cell_type": "code",
   "execution_count": 753,
   "metadata": {
    "scrolled": true
   },
   "outputs": [
    {
     "data": {
      "text/plain": [
       "0.665"
      ]
     },
     "execution_count": 753,
     "metadata": {},
     "output_type": "execute_result"
    }
   ],
   "source": [
    "model=RandomForestClassifier(bootstrap=True, class_weight=None, criterion='gini',\n",
    "            max_depth=100, max_features='auto', max_leaf_nodes=None,\n",
    "            min_impurity_decrease=0.0, min_impurity_split=None,\n",
    "            min_samples_leaf=1, min_samples_split=5,\n",
    "            min_weight_fraction_leaf=0.0, n_estimators=250, n_jobs=None,\n",
    "            oob_score=False, random_state=223,  \n",
    "            warm_start=False)\n",
    "model.fit(X_trainPCA,Y_train)\n",
    "predict=model.predict(X_testPCA)\n",
    "np.mean(predict == Y_test)"
   ]
  },
  {
   "cell_type": "markdown",
   "metadata": {},
   "source": [
    "Tuning of PCA"
   ]
  },
  {
   "cell_type": "code",
   "execution_count": 755,
   "metadata": {
    "scrolled": true
   },
   "outputs": [
    {
     "name": "stdout",
     "output_type": "stream",
     "text": [
      "number of feature of PCA: 50\n",
      "0.675\n",
      "\n",
      "\n",
      "number of feature of PCA: 80\n",
      "0.655\n",
      "\n",
      "\n",
      "number of feature of PCA: 100\n",
      "0.655\n",
      "\n",
      "\n",
      "number of feature of PCA: 115\n",
      "0.67\n",
      "\n",
      "\n",
      "number of feature of PCA: 130\n",
      "0.665\n",
      "\n",
      "\n",
      "number of feature of PCA: 150\n",
      "0.665\n",
      "\n",
      "\n"
     ]
    }
   ],
   "source": [
    "for i in [50,80,100,115,130,150]:\n",
    "    pca = PCA(n_components=i)\n",
    "    X_trainPCA = pca.fit_transform(X_train)\n",
    "    X_testPCA = pca.fit_transform(X_test)\n",
    "    print(\"number of feature of PCA: \"+str(X_trainPCA.shape[1]))\n",
    "    model=RandomForestClassifier(bootstrap=True, class_weight=None, criterion='gini',\n",
    "            max_depth=100, max_features='auto', max_leaf_nodes=None,\n",
    "            min_impurity_decrease=0.0, min_impurity_split=None,\n",
    "            min_samples_leaf=1, min_samples_split=5,\n",
    "            min_weight_fraction_leaf=0.0, n_estimators=250, n_jobs=None,\n",
    "            oob_score=False, random_state=223,  \n",
    "            warm_start=False)\n",
    "    model.fit(X_trainPCA,Y_train)\n",
    "    predict6=model.predict(X_testPCA)\n",
    "    print(np.mean(predict6 == Y_test))\n",
    "    print(\"\\n\")"
   ]
  },
  {
   "cell_type": "markdown",
   "metadata": {},
   "source": [
    "## Feature Selection"
   ]
  },
  {
   "cell_type": "code",
   "execution_count": 749,
   "metadata": {},
   "outputs": [],
   "source": [
    "model_simple = RandomForestClassifier(bootstrap=True, class_weight=None, criterion='gini',\n",
    "            max_depth=100, max_features='auto', max_leaf_nodes=None,\n",
    "            min_impurity_decrease=0.0, min_impurity_split=None,\n",
    "            min_samples_leaf=1, min_samples_split=5,\n",
    "            min_weight_fraction_leaf=0.0, n_estimators=250, n_jobs=None,\n",
    "            oob_score=False, random_state=None, verbose=0,\n",
    "            warm_start=False)\n",
    "model_simple = model_simple.fit(X_train, Y_train)"
   ]
  },
  {
   "cell_type": "code",
   "execution_count": 750,
   "metadata": {},
   "outputs": [
    {
     "name": "stdout",
     "output_type": "stream",
     "text": [
      "Variable: Judgment calls       Importance: 0.03\n",
      "Variable: Psychology           Importance: 0.02\n",
      "Variable: Friends versus money Importance: 0.02\n",
      "Variable: Compassion to animals Importance: 0.02\n",
      "Variable: Life struggles       Importance: 0.02\n",
      "Variable: Height               Importance: 0.02\n",
      "Variable: Weight               Importance: 0.02\n",
      "Variable: Dance                Importance: 0.01\n",
      "Variable: Folk                 Importance: 0.01\n",
      "Variable: Country              Importance: 0.01\n",
      "Variable: Classical music      Importance: 0.01\n",
      "Variable: Pop                  Importance: 0.01\n",
      "Variable: Rock                 Importance: 0.01\n",
      "Variable: Metal or Hardrock    Importance: 0.01\n",
      "Variable: Punk                 Importance: 0.01\n",
      "Variable: Hiphop, Rap          Importance: 0.01\n",
      "Variable: Reggae, Ska          Importance: 0.01\n",
      "Variable: Swing, Jazz          Importance: 0.01\n",
      "Variable: Rock n roll          Importance: 0.01\n",
      "Variable: Alternative          Importance: 0.01\n",
      "Variable: Latino               Importance: 0.01\n",
      "Variable: Horror               Importance: 0.01\n",
      "Variable: Thriller             Importance: 0.01\n",
      "Variable: Comedy               Importance: 0.01\n",
      "Variable: Romantic             Importance: 0.01\n",
      "Variable: Sci-fi               Importance: 0.01\n",
      "Variable: War                  Importance: 0.01\n",
      "Variable: Fantasy/Fairy tales  Importance: 0.01\n",
      "Variable: Animated             Importance: 0.01\n",
      "Variable: Documentary          Importance: 0.01\n",
      "Variable: Action               Importance: 0.01\n",
      "Variable: History              Importance: 0.01\n",
      "Variable: Politics             Importance: 0.01\n",
      "Variable: Mathematics          Importance: 0.01\n",
      "Variable: Physics              Importance: 0.01\n",
      "Variable: Internet             Importance: 0.01\n",
      "Variable: PC                   Importance: 0.01\n",
      "Variable: Economy Management   Importance: 0.01\n",
      "Variable: Biology              Importance: 0.01\n",
      "Variable: Reading              Importance: 0.01\n",
      "Variable: Geography            Importance: 0.01\n",
      "Variable: Foreign languages    Importance: 0.01\n",
      "Variable: Medicine             Importance: 0.01\n",
      "Variable: Cars                 Importance: 0.01\n",
      "Variable: Art exhibitions      Importance: 0.01\n",
      "Variable: Religion             Importance: 0.01\n",
      "Variable: Countryside, outdoors Importance: 0.01\n",
      "Variable: Dancing              Importance: 0.01\n",
      "Variable: Passive sport        Importance: 0.01\n",
      "Variable: Active sport         Importance: 0.01\n",
      "Variable: Gardening            Importance: 0.01\n",
      "Variable: Celebrities          Importance: 0.01\n",
      "Variable: Shopping             Importance: 0.01\n",
      "Variable: Science and technology Importance: 0.01\n",
      "Variable: Theatre              Importance: 0.01\n",
      "Variable: Fun with friends     Importance: 0.01\n",
      "Variable: Adrenaline sports    Importance: 0.01\n",
      "Variable: Pets                 Importance: 0.01\n",
      "Variable: Flying               Importance: 0.01\n",
      "Variable: Darkness             Importance: 0.01\n",
      "Variable: Heights              Importance: 0.01\n",
      "Variable: Spiders              Importance: 0.01\n",
      "Variable: Snakes               Importance: 0.01\n",
      "Variable: Ageing               Importance: 0.01\n",
      "Variable: Dangerous dogs       Importance: 0.01\n",
      "Variable: Fear of public speaking Importance: 0.01\n",
      "Variable: Healthy eating       Importance: 0.01\n",
      "Variable: Daily events         Importance: 0.01\n",
      "Variable: Prioritising workload Importance: 0.01\n",
      "Variable: Writing notes        Importance: 0.01\n",
      "Variable: Workaholism          Importance: 0.01\n",
      "Variable: Thinking ahead       Importance: 0.01\n",
      "Variable: Final judgement      Importance: 0.01\n",
      "Variable: Reliability          Importance: 0.01\n",
      "Variable: Keeping promises     Importance: 0.01\n",
      "Variable: Loss of interest     Importance: 0.01\n",
      "Variable: Funniness            Importance: 0.01\n",
      "Variable: Fake                 Importance: 0.01\n",
      "Variable: Criminal damage      Importance: 0.01\n",
      "Variable: Decision making      Importance: 0.01\n",
      "Variable: Elections            Importance: 0.01\n",
      "Variable: Self-criticism       Importance: 0.01\n",
      "Variable: Eating to survive    Importance: 0.01\n",
      "Variable: Giving               Importance: 0.01\n",
      "Variable: Borrowed stuff       Importance: 0.01\n",
      "Variable: Loneliness           Importance: 0.01\n",
      "Variable: Cheating in school   Importance: 0.01\n",
      "Variable: Changing the past    Importance: 0.01\n",
      "Variable: God                  Importance: 0.01\n",
      "Variable: Charity              Importance: 0.01\n",
      "Variable: Number of friends    Importance: 0.01\n",
      "Variable: New environment      Importance: 0.01\n",
      "Variable: Mood swings          Importance: 0.01\n",
      "Variable: Appearence and gestures Importance: 0.01\n",
      "Variable: Socializing          Importance: 0.01\n",
      "Variable: Achievements         Importance: 0.01\n",
      "Variable: Responding to a serious letter Importance: 0.01\n",
      "Variable: Children             Importance: 0.01\n",
      "Variable: Assertiveness        Importance: 0.01\n",
      "Variable: Getting angry        Importance: 0.01\n",
      "Variable: Public speaking      Importance: 0.01\n",
      "Variable: Unpopularity         Importance: 0.01\n",
      "Variable: Energy levels        Importance: 0.01\n",
      "Variable: Small - big dogs     Importance: 0.01\n",
      "Variable: Finding lost valuables Importance: 0.01\n",
      "Variable: Getting up           Importance: 0.01\n",
      "Variable: Interests or hobbies Importance: 0.01\n",
      "Variable: Parents' advice      Importance: 0.01\n",
      "Variable: Questionnaires or polls Importance: 0.01\n",
      "Variable: Finances             Importance: 0.01\n",
      "Variable: Shopping centres     Importance: 0.01\n",
      "Variable: Branded clothing     Importance: 0.01\n",
      "Variable: Entertainment spending Importance: 0.01\n",
      "Variable: Spending on looks    Importance: 0.01\n",
      "Variable: Spending on gadgets  Importance: 0.01\n",
      "Variable: Age                  Importance: 0.01\n",
      "Variable: Lying                Importance: 0.01\n",
      "Variable: Education            Importance: 0.01\n",
      "Variable: Music                Importance: 0.0\n",
      "Variable: Slow songs or fast songs Importance: 0.0\n",
      "Variable: Musical              Importance: 0.0\n",
      "Variable: Techno, Trance       Importance: 0.0\n",
      "Variable: Opera                Importance: 0.0\n",
      "Variable: Movies               Importance: 0.0\n",
      "Variable: Western              Importance: 0.0\n",
      "Variable: Chemistry            Importance: 0.0\n",
      "Variable: Law                  Importance: 0.0\n",
      "Variable: Musical instruments  Importance: 0.0\n",
      "Variable: Writing              Importance: 0.0\n",
      "Variable: Storm                Importance: 0.0\n",
      "Variable: Rats                 Importance: 0.0\n",
      "Variable: Hypochondria         Importance: 0.0\n",
      "Variable: Health               Importance: 0.0\n",
      "Variable: Dreams               Importance: 0.0\n",
      "Variable: Waiting              Importance: 0.0\n",
      "Variable: Knowing the right people Importance: 0.0\n",
      "Variable: Happiness in life    Importance: 0.0\n",
      "Variable: Personality          Importance: 0.0\n",
      "Variable: Spending on healthy eating Importance: 0.0\n",
      "Variable: Number of siblings   Importance: 0.0\n",
      "Variable: Gender_female        Importance: 0.0\n",
      "Variable: Gender_male          Importance: 0.0\n",
      "Variable: Left_right_handed_left handed Importance: 0.0\n",
      "Variable: Left_right_handed_right handed Importance: 0.0\n",
      "Variable: Only_child_no        Importance: 0.0\n",
      "Variable: Only_child_yes       Importance: 0.0\n",
      "Variable: Village_town_city    Importance: 0.0\n",
      "Variable: Village_town_village Importance: 0.0\n",
      "Variable: House_block_of_flats_block of flats Importance: 0.0\n",
      "Variable: House_block_of_flats_house/bungalow Importance: 0.0\n",
      "Variable: Smoking              Importance: 0.0\n",
      "Variable: Alcohol              Importance: 0.0\n",
      "Variable: Punctuality          Importance: 0.0\n",
      "Variable: Internet_usage       Importance: 0.0\n"
     ]
    }
   ],
   "source": [
    "# Get numerical feature importances\n",
    "importances = list(model_simple.feature_importances_)\n",
    "\n",
    "# List of tuples with variable and importance\n",
    "feature_importances = [(feature, round(importance, 2)) for feature, importance in zip(X_train, importances)]\n",
    "\n",
    "# Sort the feature importances by most important first\n",
    "feature_importances = sorted(feature_importances, key = lambda x: x[1], reverse = True)\n",
    "\n",
    "# Print out the feature and importances \n",
    "[print('Variable: {:20} Importance: {}'.format(*pair)) for pair in feature_importances];"
   ]
  },
  {
   "cell_type": "code",
   "execution_count": 751,
   "metadata": {},
   "outputs": [
    {
     "data": {
      "image/png": "[encoded data removed]",
      "text/plain": [
       "<Figure size 1656x720 with 1 Axes>"
      ]
     },
     "metadata": {},
     "output_type": "display_data"
    }
   ],
   "source": [
    "# list of x locations for plotting\n",
    "x_values = list(range(len(importances)))\n",
    "    \n",
    "# List of features sorted from most to least important\n",
    "sorted_importances = [importance[1] for importance in feature_importances]\n",
    "sorted_features = [importance[0] for importance in feature_importances]\n",
    "\n",
    "# Cumulative importances\n",
    "cumulative_importances = np.cumsum(sorted_importances)\n",
    "\n",
    "fig = plt.figure(figsize = (23,10))\n",
    "# Make a line graph\n",
    "plt.plot(x_values, cumulative_importances, 'g-')\n",
    "\n",
    "# Draw line at 96% of importance retained\n",
    "plt.hlines(y = 0.96, xmin=0, xmax=len(sorted_importances), color = 'r', linestyles = 'dashed')\n",
    "\n",
    "# Format x ticks and labels\n",
    "plt.xticks(x_values, sorted_features, rotation = 'vertical')\n",
    "\n",
    "# Axis labels and title\n",
    "plt.xlabel('Variable'); plt.ylabel('Cumulative Importance'); plt.title('Cumulative Importances');\n",
    "    "
   ]
  },
  {
   "cell_type": "code",
   "execution_count": 778,
   "metadata": {},
   "outputs": [],
   "source": [
    "f=[]\n",
    "for i in range(120):\n",
    "    f.append(feature_importances[i][0])\n",
    "f=np.array(f)"
   ]
  },
  {
   "cell_type": "code",
   "execution_count": 781,
   "metadata": {},
   "outputs": [
    {
     "data": {
      "text/plain": [
       "(800, 120)"
      ]
     },
     "execution_count": 781,
     "metadata": {},
     "output_type": "execute_result"
    }
   ],
   "source": [
    "X_train[f]"
   ]
  },
  {
   "cell_type": "code",
   "execution_count": 782,
   "metadata": {},
   "outputs": [
    {
     "data": {
      "text/plain": [
       "0.715"
      ]
     },
     "execution_count": 782,
     "metadata": {},
     "output_type": "execute_result"
    }
   ],
   "source": [
    "model3=RandomForestClassifier(bootstrap=True, class_weight=None, criterion='gini',\n",
    "            max_depth=100, max_features='auto', max_leaf_nodes=None,\n",
    "            min_impurity_decrease=0.0, min_impurity_split=None,\n",
    "            min_samples_leaf=1, min_samples_split=5,\n",
    "            min_weight_fraction_leaf=0.0, n_estimators=250, n_jobs=None,\n",
    "            oob_score=False, random_state=223,  \n",
    "            warm_start=False)\n",
    "model3.fit(X_train[f],Y_train)\n",
    "predict3=model3.predict(X_test[f])\n",
    "np.mean(predict3 == Y_test)"
   ]
  },
  {
   "cell_type": "code",
   "execution_count": null,
   "metadata": {},
   "outputs": [],
   "source": []
  },
  {
   "cell_type": "code",
   "execution_count": null,
   "metadata": {},
   "outputs": [],
   "source": []
  },
  {
   "cell_type": "code",
   "execution_count": 786,
   "metadata": {},
   "outputs": [
    {
     "data": {
      "text/plain": [
       "0.745"
      ]
     },
     "execution_count": 786,
     "metadata": {},
     "output_type": "execute_result"
    }
   ],
   "source": [
    "prova = xgb.XGBClassifier(base_score=0.5, booster='gbtree', colsample_bylevel=1,\n",
    "       colsample_bytree=0.3, gamma=0.5, learning_rate=0.001,\n",
    "       max_delta_step=0, max_depth=5, min_child_weight=1, missing=None,\n",
    "       n_estimators=6000, n_jobs=-1, nthread=None, objective='reg:logistic',\n",
    "       random_state=123, reg_alpha=0, reg_lambda=1, scale_pos_weight=1,\n",
    "       seed=None, silent=True, subsample=0.6)\n",
    "prova.fit(X_train[f], Y_train)\n",
    "predict5=prova.predict(X_test[f])\n",
    "np.mean(predict5 == Y_test)"
   ]
  },
  {
   "cell_type": "code",
   "execution_count": null,
   "metadata": {},
   "outputs": [],
   "source": []
  },
  {
   "cell_type": "code",
   "execution_count": null,
   "metadata": {},
   "outputs": [],
   "source": []
  },
  {
   "cell_type": "code",
   "execution_count": null,
   "metadata": {},
   "outputs": [],
   "source": []
  },
  {
   "cell_type": "code",
   "execution_count": 819,
   "metadata": {
    "scrolled": true
   },
   "outputs": [
    {
     "data": {
      "text/plain": [
       "0.74"
      ]
     },
     "execution_count": 819,
     "metadata": {},
     "output_type": "execute_result"
    }
   ],
   "source": [
    "model3=RandomForestClassifier(bootstrap=True, class_weight=None, criterion='gini',\n",
    "            max_depth=100, max_features='auto', max_leaf_nodes=None,\n",
    "            min_impurity_decrease=0.0, min_impurity_split=None,\n",
    "            min_samples_leaf=1, min_samples_split=5,\n",
    "            min_weight_fraction_leaf=0.0, n_estimators=250, n_jobs=None,\n",
    "            oob_score=False, random_state=i,  \n",
    "            warm_start=False)\n",
    "model3.fit(X_train[f],Y_train)\n",
    "predict3=model3.predict(X_test[f])\n",
    "np.mean(predict3 == Y_test)"
   ]
  },
  {
   "cell_type": "code",
   "execution_count": null,
   "metadata": {},
   "outputs": [],
   "source": []
  },
  {
   "cell_type": "code",
   "execution_count": 833,
   "metadata": {},
   "outputs": [
    {
     "data": {
      "text/plain": [
       "0.705"
      ]
     },
     "execution_count": 833,
     "metadata": {},
     "output_type": "execute_result"
    }
   ],
   "source": [
    "from sklearn.linear_model import RidgeClassifier\n",
    "model4 = RidgeClassifier(random_state=123)\n",
    "model4 = model4.fit(X_train, Y_train)\n",
    "predict4 = model4.predict(X_test)\n",
    "np.mean(predict4==Y_test)"
   ]
  },
  {
   "cell_type": "code",
   "execution_count": 834,
   "metadata": {},
   "outputs": [
    {
     "data": {
      "text/plain": [
       "0.66"
      ]
     },
     "execution_count": 834,
     "metadata": {},
     "output_type": "execute_result"
    }
   ],
   "source": [
    "from sklearn.linear_model import RidgeClassifier\n",
    "model4 = RidgeClassifier(random_state=123)\n",
    "model4 = model4.fit(X_trainPCA, Y_train)\n",
    "predict4 = model4.predict(X_testPCA)\n",
    "np.mean(predict4==Y_test)"
   ]
  },
  {
   "cell_type": "code",
   "execution_count": 838,
   "metadata": {},
   "outputs": [
    {
     "data": {
      "text/plain": [
       "0.715"
      ]
     },
     "execution_count": 838,
     "metadata": {},
     "output_type": "execute_result"
    }
   ],
   "source": [
    "from sklearn.linear_model import RidgeClassifier\n",
    "model4 = RidgeClassifier(random_state=123)\n",
    "model4 = model4.fit(X_train[f], Y_train)\n",
    "predict4 = model4.predict(X_test[f])\n",
    "np.mean(predict4==Y_test)"
   ]
  },
  {
   "cell_type": "code",
   "execution_count": null,
   "metadata": {},
   "outputs": [],
   "source": []
  },
  {
   "cell_type": "code",
   "execution_count": null,
   "metadata": {},
   "outputs": [],
   "source": []
  },
  {
   "cell_type": "code",
   "execution_count": null,
   "metadata": {},
   "outputs": [],
   "source": []
  },
  {
   "cell_type": "code",
   "execution_count": null,
   "metadata": {},
   "outputs": [],
   "source": []
  },
  {
   "cell_type": "code",
   "execution_count": null,
   "metadata": {},
   "outputs": [],
   "source": []
  },
  {
   "cell_type": "code",
   "execution_count": 739,
   "metadata": {
    "scrolled": true
   },
   "outputs": [
    {
     "name": "stdout",
     "output_type": "stream",
     "text": [
      "Epoch 1/200\n",
      "800/800 [==============================] - 3s 4ms/step - loss: 0.6816 - acc: 0.6150\n",
      "Epoch 2/200\n",
      "800/800 [==============================] - 0s 64us/step - loss: 0.6393 - acc: 0.6487\n",
      "Epoch 3/200\n",
      "800/800 [==============================] - 0s 67us/step - loss: 0.6575 - acc: 0.6525\n",
      "Epoch 4/200\n",
      "800/800 [==============================] - 0s 61us/step - loss: 0.6423 - acc: 0.6450\n",
      "Epoch 5/200\n",
      "800/800 [==============================] - 0s 63us/step - loss: 0.6466 - acc: 0.6537\n",
      "Epoch 6/200\n",
      "800/800 [==============================] - 0s 64us/step - loss: 0.6299 - acc: 0.6775\n",
      "Epoch 7/200\n",
      "800/800 [==============================] - 0s 68us/step - loss: 0.6320 - acc: 0.6725\n",
      "Epoch 8/200\n",
      "800/800 [==============================] - 0s 67us/step - loss: 0.6193 - acc: 0.6763\n",
      "Epoch 9/200\n",
      "800/800 [==============================] - 0s 60us/step - loss: 0.6170 - acc: 0.6700\n",
      "Epoch 10/200\n",
      "800/800 [==============================] - 0s 70us/step - loss: 0.6152 - acc: 0.6788\n",
      "Epoch 11/200\n",
      "800/800 [==============================] - 0s 65us/step - loss: 0.6151 - acc: 0.6812\n",
      "Epoch 12/200\n",
      "800/800 [==============================] - 0s 62us/step - loss: 0.5974 - acc: 0.6950\n",
      "Epoch 13/200\n",
      "800/800 [==============================] - 0s 69us/step - loss: 0.6047 - acc: 0.6825\n",
      "Epoch 14/200\n",
      "800/800 [==============================] - 0s 62us/step - loss: 0.6061 - acc: 0.6825\n",
      "Epoch 15/200\n",
      "800/800 [==============================] - 0s 70us/step - loss: 0.5840 - acc: 0.7037\n",
      "Epoch 16/200\n",
      "800/800 [==============================] - 0s 61us/step - loss: 0.5993 - acc: 0.7000\n",
      "Epoch 17/200\n",
      "800/800 [==============================] - 0s 68us/step - loss: 0.5866 - acc: 0.7188\n",
      "Epoch 18/200\n",
      "800/800 [==============================] - 0s 77us/step - loss: 0.5826 - acc: 0.7162\n",
      "Epoch 19/200\n",
      "800/800 [==============================] - 0s 61us/step - loss: 0.5732 - acc: 0.7188\n",
      "Epoch 20/200\n",
      "800/800 [==============================] - 0s 65us/step - loss: 0.5803 - acc: 0.7263\n",
      "Epoch 21/200\n",
      "800/800 [==============================] - 0s 69us/step - loss: 0.5614 - acc: 0.7488\n",
      "Epoch 22/200\n",
      "800/800 [==============================] - 0s 74us/step - loss: 0.5566 - acc: 0.7413\n",
      "Epoch 23/200\n",
      "800/800 [==============================] - 0s 65us/step - loss: 0.5573 - acc: 0.7450\n",
      "Epoch 24/200\n",
      "800/800 [==============================] - 0s 65us/step - loss: 0.5568 - acc: 0.7450\n",
      "Epoch 25/200\n",
      "800/800 [==============================] - 0s 59us/step - loss: 0.5406 - acc: 0.7587\n",
      "Epoch 26/200\n",
      "800/800 [==============================] - 0s 71us/step - loss: 0.5519 - acc: 0.7475\n",
      "Epoch 27/200\n",
      "800/800 [==============================] - 0s 67us/step - loss: 0.5424 - acc: 0.7488\n",
      "Epoch 28/200\n",
      "800/800 [==============================] - 0s 67us/step - loss: 0.5497 - acc: 0.7500\n",
      "Epoch 29/200\n",
      "800/800 [==============================] - 0s 67us/step - loss: 0.5311 - acc: 0.7638\n",
      "Epoch 30/200\n",
      "800/800 [==============================] - 0s 64us/step - loss: 0.5334 - acc: 0.7612\n",
      "Epoch 31/200\n",
      "800/800 [==============================] - 0s 65us/step - loss: 0.5278 - acc: 0.7662\n",
      "Epoch 32/200\n",
      "800/800 [==============================] - 0s 67us/step - loss: 0.5242 - acc: 0.7638\n",
      "Epoch 33/200\n",
      "800/800 [==============================] - 0s 72us/step - loss: 0.5273 - acc: 0.7662\n",
      "Epoch 34/200\n",
      "800/800 [==============================] - 0s 60us/step - loss: 0.5212 - acc: 0.7750\n",
      "Epoch 35/200\n",
      "800/800 [==============================] - 0s 67us/step - loss: 0.5119 - acc: 0.7712\n",
      "Epoch 36/200\n",
      "800/800 [==============================] - 0s 59us/step - loss: 0.5101 - acc: 0.7863\n",
      "Epoch 37/200\n",
      "800/800 [==============================] - 0s 73us/step - loss: 0.5125 - acc: 0.7638\n",
      "Epoch 38/200\n",
      "800/800 [==============================] - 0s 64us/step - loss: 0.5016 - acc: 0.7812\n",
      "Epoch 39/200\n",
      "800/800 [==============================] - 0s 62us/step - loss: 0.4828 - acc: 0.7963\n",
      "Epoch 40/200\n",
      "800/800 [==============================] - 0s 66us/step - loss: 0.4954 - acc: 0.7950\n",
      "Epoch 41/200\n",
      "800/800 [==============================] - 0s 75us/step - loss: 0.4786 - acc: 0.7987\n",
      "Epoch 42/200\n",
      "800/800 [==============================] - 0s 68us/step - loss: 0.4834 - acc: 0.7987\n",
      "Epoch 43/200\n",
      "800/800 [==============================] - 0s 60us/step - loss: 0.4733 - acc: 0.8013\n",
      "Epoch 44/200\n",
      "800/800 [==============================] - 0s 67us/step - loss: 0.4598 - acc: 0.8150\n",
      "Epoch 45/200\n",
      "800/800 [==============================] - 0s 68us/step - loss: 0.4733 - acc: 0.8075\n",
      "Epoch 46/200\n",
      "800/800 [==============================] - 0s 68us/step - loss: 0.4640 - acc: 0.8087\n",
      "Epoch 47/200\n",
      "800/800 [==============================] - 0s 61us/step - loss: 0.4689 - acc: 0.8125\n",
      "Epoch 48/200\n",
      "800/800 [==============================] - 0s 55us/step - loss: 0.4566 - acc: 0.8025\n",
      "Epoch 49/200\n",
      "800/800 [==============================] - 0s 63us/step - loss: 0.4612 - acc: 0.8025\n",
      "Epoch 50/200\n",
      "800/800 [==============================] - 0s 74us/step - loss: 0.4760 - acc: 0.7900\n",
      "Epoch 51/200\n",
      "800/800 [==============================] - 0s 70us/step - loss: 0.4680 - acc: 0.8075\n",
      "Epoch 52/200\n",
      "800/800 [==============================] - 0s 62us/step - loss: 0.4605 - acc: 0.8137\n",
      "Epoch 53/200\n",
      "800/800 [==============================] - 0s 59us/step - loss: 0.4472 - acc: 0.8188\n",
      "Epoch 54/200\n",
      "800/800 [==============================] - 0s 69us/step - loss: 0.4723 - acc: 0.8025\n",
      "Epoch 55/200\n",
      "800/800 [==============================] - 0s 63us/step - loss: 0.4570 - acc: 0.8125\n",
      "Epoch 56/200\n",
      "800/800 [==============================] - 0s 68us/step - loss: 0.4555 - acc: 0.8050\n",
      "Epoch 57/200\n",
      "800/800 [==============================] - 0s 59us/step - loss: 0.4645 - acc: 0.8200\n",
      "Epoch 58/200\n",
      "800/800 [==============================] - 0s 60us/step - loss: 0.4528 - acc: 0.8062\n",
      "Epoch 59/200\n",
      "800/800 [==============================] - 0s 69us/step - loss: 0.4542 - acc: 0.8175\n",
      "Epoch 60/200\n",
      "800/800 [==============================] - 0s 67us/step - loss: 0.4445 - acc: 0.8263\n",
      "Epoch 61/200\n",
      "800/800 [==============================] - 0s 65us/step - loss: 0.4353 - acc: 0.8225\n",
      "Epoch 62/200\n",
      "800/800 [==============================] - 0s 62us/step - loss: 0.4364 - acc: 0.8287\n",
      "Epoch 63/200\n",
      "800/800 [==============================] - 0s 70us/step - loss: 0.4303 - acc: 0.8313\n",
      "Epoch 64/200\n",
      "800/800 [==============================] - 0s 69us/step - loss: 0.4373 - acc: 0.8212\n",
      "Epoch 65/200\n",
      "800/800 [==============================] - 0s 62us/step - loss: 0.4343 - acc: 0.8175\n",
      "Epoch 66/200\n",
      "800/800 [==============================] - 0s 66us/step - loss: 0.4381 - acc: 0.8200\n",
      "Epoch 67/200\n",
      "800/800 [==============================] - 0s 68us/step - loss: 0.4411 - acc: 0.8250\n",
      "Epoch 68/200\n",
      "800/800 [==============================] - 0s 68us/step - loss: 0.4280 - acc: 0.8387\n",
      "Epoch 69/200\n",
      "800/800 [==============================] - 0s 68us/step - loss: 0.4308 - acc: 0.8300\n",
      "Epoch 70/200\n",
      "800/800 [==============================] - 0s 65us/step - loss: 0.4319 - acc: 0.8313\n",
      "Epoch 71/200\n",
      "800/800 [==============================] - 0s 68us/step - loss: 0.4354 - acc: 0.8300\n",
      "Epoch 72/200\n",
      "800/800 [==============================] - 0s 64us/step - loss: 0.4160 - acc: 0.8400\n",
      "Epoch 73/200\n",
      "800/800 [==============================] - 0s 86us/step - loss: 0.4079 - acc: 0.8387\n",
      "Epoch 74/200\n",
      "800/800 [==============================] - 0s 64us/step - loss: 0.4411 - acc: 0.8050\n",
      "Epoch 75/200\n",
      "800/800 [==============================] - 0s 64us/step - loss: 0.4152 - acc: 0.8300\n",
      "Epoch 76/200\n",
      "800/800 [==============================] - 0s 68us/step - loss: 0.4269 - acc: 0.8362\n",
      "Epoch 77/200\n",
      "800/800 [==============================] - 0s 72us/step - loss: 0.4076 - acc: 0.8313\n",
      "Epoch 78/200\n",
      "800/800 [==============================] - 0s 71us/step - loss: 0.4104 - acc: 0.8400\n",
      "Epoch 79/200\n",
      "800/800 [==============================] - 0s 61us/step - loss: 0.4093 - acc: 0.8387\n",
      "Epoch 80/200\n",
      "800/800 [==============================] - 0s 66us/step - loss: 0.4152 - acc: 0.8412\n",
      "Epoch 81/200\n",
      "800/800 [==============================] - 0s 61us/step - loss: 0.4312 - acc: 0.8375\n",
      "Epoch 82/200\n",
      "800/800 [==============================] - 0s 67us/step - loss: 0.4096 - acc: 0.8525\n",
      "Epoch 83/200\n",
      "800/800 [==============================] - 0s 62us/step - loss: 0.4159 - acc: 0.8263\n",
      "Epoch 84/200\n"
     ]
    },
    {
     "name": "stdout",
     "output_type": "stream",
     "text": [
      "800/800 [==============================] - 0s 62us/step - loss: 0.4380 - acc: 0.8300\n",
      "Epoch 85/200\n",
      "800/800 [==============================] - 0s 70us/step - loss: 0.4091 - acc: 0.8463\n",
      "Epoch 86/200\n",
      "800/800 [==============================] - 0s 58us/step - loss: 0.3931 - acc: 0.8400\n",
      "Epoch 87/200\n",
      "800/800 [==============================] - 0s 63us/step - loss: 0.4085 - acc: 0.8313\n",
      "Epoch 88/200\n",
      "800/800 [==============================] - 0s 63us/step - loss: 0.3949 - acc: 0.8412\n",
      "Epoch 89/200\n",
      "800/800 [==============================] - 0s 59us/step - loss: 0.4063 - acc: 0.8325\n",
      "Epoch 90/200\n",
      "800/800 [==============================] - 0s 62us/step - loss: 0.4039 - acc: 0.8263\n",
      "Epoch 91/200\n",
      "800/800 [==============================] - 0s 67us/step - loss: 0.4359 - acc: 0.8163\n",
      "Epoch 92/200\n",
      "800/800 [==============================] - 0s 65us/step - loss: 0.4034 - acc: 0.8325\n",
      "Epoch 93/200\n",
      "800/800 [==============================] - 0s 66us/step - loss: 0.4237 - acc: 0.8275\n",
      "Epoch 94/200\n",
      "800/800 [==============================] - 0s 65us/step - loss: 0.3986 - acc: 0.8475\n",
      "Epoch 95/200\n",
      "800/800 [==============================] - 0s 64us/step - loss: 0.4200 - acc: 0.8287\n",
      "Epoch 96/200\n",
      "800/800 [==============================] - 0s 67us/step - loss: 0.4210 - acc: 0.8200\n",
      "Epoch 97/200\n",
      "800/800 [==============================] - 0s 65us/step - loss: 0.3790 - acc: 0.8513\n",
      "Epoch 98/200\n",
      "800/800 [==============================] - 0s 65us/step - loss: 0.3992 - acc: 0.8400\n",
      "Epoch 99/200\n",
      "800/800 [==============================] - 0s 68us/step - loss: 0.3841 - acc: 0.8438\n",
      "Epoch 100/200\n",
      "800/800 [==============================] - 0s 62us/step - loss: 0.3906 - acc: 0.8337\n",
      "Epoch 101/200\n",
      "800/800 [==============================] - 0s 59us/step - loss: 0.3911 - acc: 0.8425\n",
      "Epoch 102/200\n",
      "800/800 [==============================] - 0s 70us/step - loss: 0.3824 - acc: 0.8513\n",
      "Epoch 103/200\n",
      "800/800 [==============================] - 0s 60us/step - loss: 0.3826 - acc: 0.8500\n",
      "Epoch 104/200\n",
      "800/800 [==============================] - 0s 66us/step - loss: 0.3969 - acc: 0.8438\n",
      "Epoch 105/200\n",
      "800/800 [==============================] - 0s 66us/step - loss: 0.3729 - acc: 0.8475\n",
      "Epoch 106/200\n",
      "800/800 [==============================] - 0s 64us/step - loss: 0.3830 - acc: 0.8550\n",
      "Epoch 107/200\n",
      "800/800 [==============================] - 0s 63us/step - loss: 0.3820 - acc: 0.8513\n",
      "Epoch 108/200\n",
      "800/800 [==============================] - 0s 67us/step - loss: 0.3700 - acc: 0.8575\n",
      "Epoch 109/200\n",
      "800/800 [==============================] - 0s 66us/step - loss: 0.3680 - acc: 0.8525\n",
      "Epoch 110/200\n",
      "800/800 [==============================] - 0s 73us/step - loss: 0.3743 - acc: 0.8463\n",
      "Epoch 111/200\n",
      "800/800 [==============================] - 0s 61us/step - loss: 0.3593 - acc: 0.8600\n",
      "Epoch 112/200\n",
      "800/800 [==============================] - 0s 59us/step - loss: 0.3771 - acc: 0.8513\n",
      "Epoch 113/200\n",
      "800/800 [==============================] - 0s 69us/step - loss: 0.3733 - acc: 0.8500\n",
      "Epoch 114/200\n",
      "800/800 [==============================] - 0s 79us/step - loss: 0.3684 - acc: 0.8500\n",
      "Epoch 115/200\n",
      "800/800 [==============================] - 0s 62us/step - loss: 0.3893 - acc: 0.8425\n",
      "Epoch 116/200\n",
      "800/800 [==============================] - 0s 66us/step - loss: 0.4028 - acc: 0.8387\n",
      "Epoch 117/200\n",
      "800/800 [==============================] - 0s 64us/step - loss: 0.3666 - acc: 0.8550\n",
      "Epoch 118/200\n",
      "800/800 [==============================] - 0s 65us/step - loss: 0.3544 - acc: 0.8687\n",
      "Epoch 119/200\n",
      "800/800 [==============================] - 0s 63us/step - loss: 0.3638 - acc: 0.8588\n",
      "Epoch 120/200\n",
      "800/800 [==============================] - 0s 66us/step - loss: 0.3641 - acc: 0.8525\n",
      "Epoch 121/200\n",
      "800/800 [==============================] - 0s 63us/step - loss: 0.3518 - acc: 0.8650\n",
      "Epoch 122/200\n",
      "800/800 [==============================] - 0s 60us/step - loss: 0.3570 - acc: 0.8575\n",
      "Epoch 123/200\n",
      "800/800 [==============================] - 0s 60us/step - loss: 0.3576 - acc: 0.8612\n",
      "Epoch 124/200\n",
      "800/800 [==============================] - 0s 61us/step - loss: 0.3794 - acc: 0.8550\n",
      "Epoch 125/200\n",
      "800/800 [==============================] - 0s 61us/step - loss: 0.3693 - acc: 0.8488\n",
      "Epoch 126/200\n",
      "800/800 [==============================] - 0s 64us/step - loss: 0.3569 - acc: 0.8562\n",
      "Epoch 127/200\n",
      "800/800 [==============================] - 0s 63us/step - loss: 0.3512 - acc: 0.8638\n",
      "Epoch 128/200\n",
      "800/800 [==============================] - 0s 66us/step - loss: 0.3433 - acc: 0.8650\n",
      "Epoch 129/200\n",
      "800/800 [==============================] - 0s 72us/step - loss: 0.3646 - acc: 0.8438\n",
      "Epoch 130/200\n",
      "800/800 [==============================] - 0s 68us/step - loss: 0.3631 - acc: 0.8525\n",
      "Epoch 131/200\n",
      "800/800 [==============================] - 0s 62us/step - loss: 0.3562 - acc: 0.8575\n",
      "Epoch 132/200\n",
      "800/800 [==============================] - 0s 90us/step - loss: 0.3550 - acc: 0.8675\n",
      "Epoch 133/200\n",
      "800/800 [==============================] - 0s 70us/step - loss: 0.3507 - acc: 0.8550\n",
      "Epoch 134/200\n",
      "800/800 [==============================] - 0s 65us/step - loss: 0.3383 - acc: 0.8625\n",
      "Epoch 135/200\n",
      "800/800 [==============================] - 0s 63us/step - loss: 0.3490 - acc: 0.8650\n",
      "Epoch 136/200\n",
      "800/800 [==============================] - 0s 59us/step - loss: 0.3479 - acc: 0.8600\n",
      "Epoch 137/200\n",
      "800/800 [==============================] - 0s 72us/step - loss: 0.3499 - acc: 0.8612\n",
      "Epoch 138/200\n",
      "800/800 [==============================] - 0s 62us/step - loss: 0.3394 - acc: 0.8675\n",
      "Epoch 139/200\n",
      "800/800 [==============================] - 0s 70us/step - loss: 0.3537 - acc: 0.8450\n",
      "Epoch 140/200\n",
      "800/800 [==============================] - 0s 65us/step - loss: 0.3509 - acc: 0.8538\n",
      "Epoch 141/200\n",
      "800/800 [==============================] - 0s 69us/step - loss: 0.3459 - acc: 0.8625\n",
      "Epoch 142/200\n",
      "800/800 [==============================] - 0s 71us/step - loss: 0.3399 - acc: 0.8600\n",
      "Epoch 143/200\n",
      "800/800 [==============================] - 0s 68us/step - loss: 0.3532 - acc: 0.8550\n",
      "Epoch 144/200\n",
      "800/800 [==============================] - 0s 64us/step - loss: 0.3320 - acc: 0.8638\n",
      "Epoch 145/200\n",
      "800/800 [==============================] - 0s 63us/step - loss: 0.3279 - acc: 0.8625\n",
      "Epoch 146/200\n",
      "800/800 [==============================] - 0s 69us/step - loss: 0.3249 - acc: 0.8687\n",
      "Epoch 147/200\n",
      "800/800 [==============================] - 0s 61us/step - loss: 0.3255 - acc: 0.8750\n",
      "Epoch 148/200\n",
      "800/800 [==============================] - 0s 57us/step - loss: 0.3587 - acc: 0.8438\n",
      "Epoch 149/200\n",
      "800/800 [==============================] - 0s 64us/step - loss: 0.3322 - acc: 0.8625\n",
      "Epoch 150/200\n",
      "800/800 [==============================] - 0s 66us/step - loss: 0.3504 - acc: 0.8538\n",
      "Epoch 151/200\n",
      "800/800 [==============================] - 0s 69us/step - loss: 0.3632 - acc: 0.8337\n",
      "Epoch 152/200\n",
      "800/800 [==============================] - 0s 72us/step - loss: 0.3231 - acc: 0.8675\n",
      "Epoch 153/200\n",
      "800/800 [==============================] - 0s 61us/step - loss: 0.3333 - acc: 0.8687\n",
      "Epoch 154/200\n",
      "800/800 [==============================] - 0s 74us/step - loss: 0.3166 - acc: 0.8612\n",
      "Epoch 155/200\n",
      "800/800 [==============================] - 0s 63us/step - loss: 0.3376 - acc: 0.8638\n",
      "Epoch 156/200\n",
      "800/800 [==============================] - 0s 63us/step - loss: 0.3211 - acc: 0.8675\n",
      "Epoch 157/200\n",
      "800/800 [==============================] - 0s 63us/step - loss: 0.3274 - acc: 0.8562\n",
      "Epoch 158/200\n",
      "800/800 [==============================] - 0s 65us/step - loss: 0.3189 - acc: 0.8738\n",
      "Epoch 159/200\n",
      "800/800 [==============================] - 0s 69us/step - loss: 0.3357 - acc: 0.8638\n",
      "Epoch 160/200\n",
      "800/800 [==============================] - 0s 56us/step - loss: 0.3308 - acc: 0.8625\n",
      "Epoch 161/200\n",
      "800/800 [==============================] - 0s 59us/step - loss: 0.3256 - acc: 0.8562\n",
      "Epoch 162/200\n",
      "800/800 [==============================] - 0s 71us/step - loss: 0.3268 - acc: 0.8675\n",
      "Epoch 163/200\n",
      "800/800 [==============================] - 0s 68us/step - loss: 0.3145 - acc: 0.8687\n",
      "Epoch 164/200\n",
      "800/800 [==============================] - 0s 60us/step - loss: 0.3250 - acc: 0.8650\n",
      "Epoch 165/200\n",
      "800/800 [==============================] - 0s 74us/step - loss: 0.3082 - acc: 0.8837\n",
      "Epoch 166/200\n",
      "800/800 [==============================] - 0s 75us/step - loss: 0.3259 - acc: 0.8612\n",
      "Epoch 167/200\n"
     ]
    },
    {
     "name": "stdout",
     "output_type": "stream",
     "text": [
      "800/800 [==============================] - 0s 61us/step - loss: 0.3103 - acc: 0.8813\n",
      "Epoch 168/200\n",
      "800/800 [==============================] - 0s 61us/step - loss: 0.3135 - acc: 0.8700\n",
      "Epoch 169/200\n",
      "800/800 [==============================] - 0s 62us/step - loss: 0.3134 - acc: 0.8638\n",
      "Epoch 170/200\n",
      "800/800 [==============================] - 0s 60us/step - loss: 0.3123 - acc: 0.8813\n",
      "Epoch 171/200\n",
      "800/800 [==============================] - 0s 69us/step - loss: 0.3151 - acc: 0.8612\n",
      "Epoch 172/200\n",
      "800/800 [==============================] - 0s 61us/step - loss: 0.3636 - acc: 0.8425\n",
      "Epoch 173/200\n",
      "800/800 [==============================] - 0s 75us/step - loss: 0.3255 - acc: 0.8600\n",
      "Epoch 174/200\n",
      "800/800 [==============================] - 0s 63us/step - loss: 0.3422 - acc: 0.8575\n",
      "Epoch 175/200\n",
      "800/800 [==============================] - 0s 64us/step - loss: 0.3394 - acc: 0.8625\n",
      "Epoch 176/200\n",
      "800/800 [==============================] - 0s 63us/step - loss: 0.3040 - acc: 0.8600\n",
      "Epoch 177/200\n",
      "800/800 [==============================] - 0s 65us/step - loss: 0.3235 - acc: 0.8612\n",
      "Epoch 178/200\n",
      "800/800 [==============================] - 0s 63us/step - loss: 0.3249 - acc: 0.8625\n",
      "Epoch 179/200\n",
      "800/800 [==============================] - 0s 58us/step - loss: 0.3078 - acc: 0.8687\n",
      "Epoch 180/200\n",
      "800/800 [==============================] - 0s 66us/step - loss: 0.2963 - acc: 0.8738\n",
      "Epoch 181/200\n",
      "800/800 [==============================] - 0s 64us/step - loss: 0.3058 - acc: 0.8738\n",
      "Epoch 182/200\n",
      "800/800 [==============================] - 0s 71us/step - loss: 0.2825 - acc: 0.8775\n",
      "Epoch 183/200\n",
      "800/800 [==============================] - 0s 73us/step - loss: 0.2925 - acc: 0.8775\n",
      "Epoch 184/200\n",
      "800/800 [==============================] - 0s 70us/step - loss: 0.3128 - acc: 0.8612\n",
      "Epoch 185/200\n",
      "800/800 [==============================] - 0s 65us/step - loss: 0.3118 - acc: 0.8750\n",
      "Epoch 186/200\n",
      "800/800 [==============================] - 0s 72us/step - loss: 0.3424 - acc: 0.8412\n",
      "Epoch 187/200\n",
      "800/800 [==============================] - 0s 64us/step - loss: 0.3109 - acc: 0.8588\n",
      "Epoch 188/200\n",
      "800/800 [==============================] - 0s 70us/step - loss: 0.3534 - acc: 0.8412\n",
      "Epoch 189/200\n",
      "800/800 [==============================] - 0s 68us/step - loss: 0.3044 - acc: 0.8738\n",
      "Epoch 190/200\n",
      "800/800 [==============================] - 0s 67us/step - loss: 0.2904 - acc: 0.8813\n",
      "Epoch 191/200\n",
      "800/800 [==============================] - 0s 82us/step - loss: 0.2962 - acc: 0.8762\n",
      "Epoch 192/200\n",
      "800/800 [==============================] - 0s 58us/step - loss: 0.2919 - acc: 0.8813\n",
      "Epoch 193/200\n",
      "800/800 [==============================] - 0s 66us/step - loss: 0.2948 - acc: 0.8850\n",
      "Epoch 194/200\n",
      "800/800 [==============================] - 0s 63us/step - loss: 0.2942 - acc: 0.8862\n",
      "Epoch 195/200\n",
      "800/800 [==============================] - 0s 70us/step - loss: 0.2906 - acc: 0.8837\n",
      "Epoch 196/200\n",
      "800/800 [==============================] - 0s 66us/step - loss: 0.3048 - acc: 0.8700\n",
      "Epoch 197/200\n",
      "800/800 [==============================] - 0s 60us/step - loss: 0.3081 - acc: 0.8725\n",
      "Epoch 198/200\n",
      "800/800 [==============================] - 0s 71us/step - loss: 0.2964 - acc: 0.8638\n",
      "Epoch 199/200\n",
      "800/800 [==============================] - 0s 63us/step - loss: 0.2901 - acc: 0.8750\n",
      "Epoch 200/200\n",
      "800/800 [==============================] - 0s 65us/step - loss: 0.3018 - acc: 0.8712\n"
     ]
    },
    {
     "data": {
      "text/plain": [
       "<tensorflow.python.keras.callbacks.History at 0x251a0dc3550>"
      ]
     },
     "execution_count": 739,
     "metadata": {},
     "output_type": "execute_result"
    }
   ],
   "source": [
    "import tensorflow as tf\n",
    "model = tf.keras.models.Sequential([\n",
    "  tf.keras.layers.Dense(6, activation=tf.nn.relu),\n",
    "  tf.keras.layers.Dense(8, activation=tf.nn.tanh),\n",
    "  tf.keras.layers.Dense(8, activation=tf.nn.tanh),\n",
    "  tf.keras.layers.Dense(8, activation=tf.nn.tanh),\n",
    "  tf.keras.layers.Dropout(0.3),\n",
    "  tf.keras.layers.Dense(1, activation='sigmoid')\n",
    "])\n",
    "model.compile(optimizer='adam',\n",
    "              loss='binary_crossentropy',\n",
    "              metrics=['accuracy'])\n",
    "\n",
    "model.fit(X_train.values, Y_train , epochs=200)"
   ]
  },
  {
   "cell_type": "code",
   "execution_count": 740,
   "metadata": {},
   "outputs": [
    {
     "data": {
      "text/plain": [
       "0.68"
      ]
     },
     "execution_count": 740,
     "metadata": {},
     "output_type": "execute_result"
    }
   ],
   "source": [
    "predictionNN=model.predict(X_test.values)\n",
    "res=[]\n",
    "for i in range(len(predictionNN)):\n",
    "    if(predictionNN[i]<=0.5):\n",
    "        res.append(0)\n",
    "    else:\n",
    "        res.append(1)\n",
    "predictionNN = np.array(res)\n",
    "np.mean(predictionNN==Y_test)"
   ]
  },
  {
   "cell_type": "code",
   "execution_count": null,
   "metadata": {},
   "outputs": [],
   "source": []
  },
  {
   "cell_type": "code",
   "execution_count": null,
   "metadata": {},
   "outputs": [],
   "source": []
  },
  {
   "cell_type": "markdown",
   "metadata": {},
   "source": [
    "# prova SVM ! && cross validation per RandomForest"
   ]
  },
  {
   "cell_type": "markdown",
   "metadata": {},
   "source": [
    "# calcola anche altre cose tipo l' F1 _ BOOSTING"
   ]
  },
  {
   "cell_type": "code",
   "execution_count": null,
   "metadata": {},
   "outputs": [],
   "source": []
  }
 ],
 "metadata": {
  "kernelspec": {
   "display_name": "Python 3",
   "language": "python",
   "name": "python3"
  },
  "language_info": {
   "codemirror_mode": {
    "name": "ipython",
    "version": 3
   },
   "file_extension": ".py",
   "mimetype": "text/x-python",
   "name": "python",
   "nbconvert_exporter": "python",
   "pygments_lexer": "ipython3",
   "version": "3.6.5"
  }
 },
 "nbformat": 4,
 "nbformat_minor": 2
}
